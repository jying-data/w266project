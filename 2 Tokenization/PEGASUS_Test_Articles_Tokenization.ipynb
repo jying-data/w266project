{
 "cells": [
  {
   "cell_type": "markdown",
   "metadata": {
    "id": "lr08TdVEkWJA"
   },
   "source": [
    "### This script tokenizes the articles in test set using PEGASUS tokenizer from Huggingface. The tokenized articles were then truncated under several different truncation conditions"
   ]
  },
  {
   "cell_type": "code",
   "execution_count": null,
   "metadata": {
    "colab": {
     "base_uri": "https://localhost:8080/"
    },
    "id": "-RfzTCZCtW8n",
    "outputId": "15723c69-5215-458f-c5d7-dc26323c7066"
   },
   "outputs": [
    {
     "name": "stdout",
     "output_type": "stream",
     "text": [
      "Mounted at /content/drive\n"
     ]
    }
   ],
   "source": [
    "!pip install transformers\n",
    "!pip install sentencepiece\n",
    "\n",
    "from google.colab import drive\n",
    "drive.mount('/content/drive')"
   ]
  },
  {
   "cell_type": "code",
   "execution_count": null,
   "metadata": {
    "colab": {
     "base_uri": "https://localhost:8080/",
     "height": 164,
     "referenced_widgets": [
      "7bcebef032ef4ba28c011e6ecfa8415e",
      "fd7097bc666c4fcbb850ccda60eb0f99",
      "919d810ada27480f9ef5f221f8097733",
      "cbacda1f6dd0471e889f59af0bdd06f5",
      "76e970b888e14513919888fedd6cb574",
      "d752d8e9dfa54b0c86b0a543bafd239e",
      "7a1eef47fb9d49a79b2e118443f7d166",
      "203128e7adf646309ebdd53ba04e2e35",
      "9827ce417dad4aba80c5b21b861da24e",
      "ff4060fcd04449e0aa3ec1bc2f164ab9",
      "7bd33dd6e889487d813326a56e9d94ad",
      "2fbc9c85abbb4c83a597c837793eb34c",
      "564b6d6c2fe144088529fb07b17d88b2",
      "d0065e487dff497ab4a870bc3915aaf4",
      "bacd4aa879ec4627aec779db75269aaf",
      "865482c6fc9640c9aa7e22311280ee4f",
      "9ab8918b1df041f188d49d63900eacd1",
      "a8453cc9ffdf4e7dbeb7de6d6cbb0b03",
      "672bfae55e00437ab0a755f071f63e9d",
      "3728d82eb6e64922b596b7b6e54eacbe",
      "b06915f447b340249fac2a36e9aa65bb",
      "fa1e7dc758fe443f883be3a752719852",
      "6be340d03f52431d90270d639fb5301a",
      "8fc9695474274f17ab59e254998eecb0"
     ]
    },
    "id": "40toBbDLtr9M",
    "outputId": "3137f531-2c03-450c-9c3e-2ad6d2bc6bbc"
   },
   "outputs": [
    {
     "data": {
      "application/vnd.jupyter.widget-view+json": {
       "model_id": "7bcebef032ef4ba28c011e6ecfa8415e",
       "version_major": 2,
       "version_minor": 0
      },
      "text/plain": [
       "HBox(children=(FloatProgress(value=0.0, description='Downloading', max=898823.0, style=ProgressStyle(descripti…"
      ]
     },
     "metadata": {
      "tags": []
     },
     "output_type": "display_data"
    },
    {
     "name": "stdout",
     "output_type": "stream",
     "text": [
      "\n"
     ]
    },
    {
     "data": {
      "application/vnd.jupyter.widget-view+json": {
       "model_id": "9827ce417dad4aba80c5b21b861da24e",
       "version_major": 2,
       "version_minor": 0
      },
      "text/plain": [
       "HBox(children=(FloatProgress(value=0.0, description='Downloading', max=456318.0, style=ProgressStyle(descripti…"
      ]
     },
     "metadata": {
      "tags": []
     },
     "output_type": "display_data"
    },
    {
     "name": "stdout",
     "output_type": "stream",
     "text": [
      "\n"
     ]
    },
    {
     "data": {
      "application/vnd.jupyter.widget-view+json": {
       "model_id": "9ab8918b1df041f188d49d63900eacd1",
       "version_major": 2,
       "version_minor": 0
      },
      "text/plain": [
       "HBox(children=(FloatProgress(value=0.0, description='Downloading', max=1355863.0, style=ProgressStyle(descript…"
      ]
     },
     "metadata": {
      "tags": []
     },
     "output_type": "display_data"
    },
    {
     "name": "stdout",
     "output_type": "stream",
     "text": [
      "\n"
     ]
    }
   ],
   "source": [
    "import numpy as np\n",
    "import pandas as pd\n",
    "import torch\n",
    "import torch.nn as nn\n",
    "from transformers import PegasusTokenizer\n",
    "from time import time\n",
    "import matplotlib.pyplot as plt\n",
    "\n",
    "tokenizer = PegasusTokenizer.from_pretrained(\"google/pegasus-newsroom\")"
   ]
  },
  {
   "cell_type": "markdown",
   "metadata": {
    "id": "dTZaP2hPrdQN"
   },
   "source": [
    "### Tokenize with PEGASUS tokenizer, max length = 512"
   ]
  },
  {
   "cell_type": "code",
   "execution_count": null,
   "metadata": {
    "id": "SPXRf2b6mxka"
   },
   "outputs": [],
   "source": [
    "# load the test dataset, tokenize the articles\n",
    "test_df = pd.read_csv('/content/drive/MyDrive/NLP Summarization Project/Data/Cleaned Test Data.csv')\n",
    "test_source = test_df['article'].tolist()\n",
    "\n",
    "articles_tokenized = tokenizer(test_source, max_length= None, truncation='only_first', padding='max_length',return_tensors='pt')\n",
    "input_array = articles_tokenized['input_ids'].numpy()"
   ]
  },
  {
   "cell_type": "code",
   "execution_count": null,
   "metadata": {
    "id": "b0rrx8VGFvwU"
   },
   "outputs": [],
   "source": [
    "# find the starting position of padding tokens\n",
    "padding_start = np.argmax(input_array == tokenizer.pad_token_id, axis = 1)\n",
    "\n",
    "# if the starting position is 0, it means the article was truncated to the max length\n",
    "# and there is no padding token, so set the starting position to 512\n",
    "padding_start = np.where(padding_start==0, 512, padding_start)\n",
    "\n",
    "print('token shape', input_array.shape)\n",
    "print('padding token id', tokenizer.pad_token_id)\n",
    "print('min padding location', padding_start.min())"
   ]
  },
  {
   "cell_type": "code",
   "execution_count": null,
   "metadata": {
    "id": "PBI_cOWOlOtl"
   },
   "outputs": [],
   "source": [
    "plt.hist(padding_start) \n",
    "plt.show()"
   ]
  },
  {
   "cell_type": "markdown",
   "metadata": {
    "id": "jcOxEwx6mH86"
   },
   "source": [
    "### Forward truncation, 50% non-padding tokens remain, max length = 256"
   ]
  },
  {
   "cell_type": "code",
   "execution_count": null,
   "metadata": {
    "id": "2EpriuxQJ8mU"
   },
   "outputs": [],
   "source": [
    "# reduce padding indices to half, modify input array and truncate\n",
    "padding_start_256 = padding_start.copy()\n",
    "padding_start_256 = (padding_start_256/2).round().astype(int)\n",
    "\n",
    "input_array_256 = input_array.copy()\n",
    "\n",
    "for row, start_col in enumerate(padding_start_256):\n",
    "  if start_col < 256:\n",
    "      input_array_256[row,start_col:] = tokenizer.pad_token_id\n",
    "\n",
    "input_array_256 = input_array_256[:, :256]"
   ]
  },
  {
   "cell_type": "markdown",
   "metadata": {
    "id": "iWFiBp5kmWkZ"
   },
   "source": [
    "### Forward truncation, 25% non-padding tokens remain, max length = 128"
   ]
  },
  {
   "cell_type": "code",
   "execution_count": null,
   "metadata": {
    "id": "bM6t9v9mKlzy"
   },
   "outputs": [],
   "source": [
    "# reduce padding indices to quarter, modify input array and truncate\n",
    "padding_start_128 = padding_start.copy()\n",
    "padding_start_128 = (padding_start_128/4).round().astype(int)\n",
    "\n",
    "input_array_128 = input_array.copy()\n",
    "\n",
    "for row, start_col in enumerate(padding_start_128):\n",
    "  if start_col < 128:\n",
    "      input_array_128[row,start_col:] = tokenizer.pad_token_id\n",
    "\n",
    "input_array_128 = input_array_128[:, :128]"
   ]
  },
  {
   "cell_type": "markdown",
   "metadata": {
    "id": "YjLOutZ7nOy0"
   },
   "source": [
    "### Backward truncation, 75% non-padding tokens remain"
   ]
  },
  {
   "cell_type": "code",
   "execution_count": null,
   "metadata": {
    "id": "Lep178pNKn8Z"
   },
   "outputs": [],
   "source": [
    "# reduce padding indices to quarter\n",
    "padding_start_quarter = padding_start.copy()\n",
    "padding_start_quarter = (padding_start_quarter/4).round().astype(int)\n",
    "\n",
    "# everything before new padding start position is replaced with padding token\n",
    "# next non-padding token is replaced with the beginning-of-sentence-token\n",
    "input_array_quarter = input_array.copy()\n",
    "\n",
    "for row, start_col in enumerate(padding_start_quarter):\n",
    "    input_array_quarter[row,:start_col] = tokenizer.pad_token_id\n",
    "    input_array_quarter[row, start_col] = tokenizer.bos_token_id"
   ]
  },
  {
   "cell_type": "markdown",
   "metadata": {
    "id": "iK4J6WzvnrTF"
   },
   "source": [
    "### Backward truncation, 50% non-padding tokens remain"
   ]
  },
  {
   "cell_type": "code",
   "execution_count": null,
   "metadata": {
    "id": "-hh26ZkAmVRT"
   },
   "outputs": [],
   "source": [
    "# reduce padding indices to half\n",
    "padding_start_half = padding_start.copy()\n",
    "padding_start_half = (padding_start_half/2).round().astype(int)\n",
    "\n",
    "# everything before new padding start position is replaced with padding token\n",
    "# next non-padding token is replaced with the beginning-of-sentence-token\n",
    "input_array_half = input_array.copy()\n",
    "\n",
    "for row, start_col in enumerate(padding_start_half):\n",
    "    input_array_half[row,:start_col] = tokenizer.pad_token_id\n",
    "    input_array_half[row, start_col] = tokenizer.bos_token_id\n",
    "\n",
    "test_tensor_half = torch.tensor(input_array_half)"
   ]
  },
  {
   "cell_type": "code",
   "execution_count": null,
   "metadata": {
    "id": "XXX-7uoBsqpc"
   },
   "outputs": [],
   "source": [
    "# save tensors\n",
    "test_tensor = torch.tensor(input_array)\n",
    "torch.save(test_tensor, '/content/drive/MyDrive/NLP Summarization Project/Data/Test_Articles_BART.pt')\n",
    "\n",
    "test_tensor_256 = torch.tensor(input_array_256)\n",
    "torch.save(test_tensor_256, '/content/drive/MyDrive/NLP Summarization Project/Data/Test_Articles_BART_backward truncation 25 percent remain.pt')\n",
    "\n",
    "test_tensor_128 = torch.tensor(input_array_128)\n",
    "torch.save(test_tensor_128, '/content/drive/MyDrive/NLP Summarization Project/Data/Test_Articles_BART_backward truncation 12.5 percent remain.pt')\n",
    "\n",
    "test_tensor_half = torch.tensor(input_array_half)\n",
    "torch.save(test_tensor_half, '/content/drive/MyDrive/NLP Summarization Project/Data/Test_Articles_BART_forward truncation 50 percent remain.pt')\n",
    "\n",
    "test_tensor_quarter = torch.tensor(input_array_quarter)\n",
    "torch.save(test_tensor_quarter, '/content/drive/MyDrive/NLP Summarization Project/Data/Test_Articles_BART_forward truncation 25 percent remain.pt')"
   ]
  },
  {
   "cell_type": "code",
   "execution_count": null,
   "metadata": {
    "id": "2k6j_jqBZdTL"
   },
   "outputs": [],
   "source": []
  }
 ],
 "metadata": {
  "colab": {
   "collapsed_sections": [],
   "machine_shape": "hm",
   "name": "PEGASUS Test Articles Tokenization.ipynb",
   "provenance": []
  },
  "kernelspec": {
   "display_name": "Python 3",
   "language": "python",
   "name": "python3"
  },
  "language_info": {
   "codemirror_mode": {
    "name": "ipython",
    "version": 3
   },
   "file_extension": ".py",
   "mimetype": "text/x-python",
   "name": "python",
   "nbconvert_exporter": "python",
   "pygments_lexer": "ipython3",
   "version": "3.8.5"
  },
  "widgets": {
   "application/vnd.jupyter.widget-state+json": {
    "203128e7adf646309ebdd53ba04e2e35": {
     "model_module": "@jupyter-widgets/base",
     "model_name": "LayoutModel",
     "state": {
      "_model_module": "@jupyter-widgets/base",
      "_model_module_version": "1.2.0",
      "_model_name": "LayoutModel",
      "_view_count": null,
      "_view_module": "@jupyter-widgets/base",
      "_view_module_version": "1.2.0",
      "_view_name": "LayoutView",
      "align_content": null,
      "align_items": null,
      "align_self": null,
      "border": null,
      "bottom": null,
      "display": null,
      "flex": null,
      "flex_flow": null,
      "grid_area": null,
      "grid_auto_columns": null,
      "grid_auto_flow": null,
      "grid_auto_rows": null,
      "grid_column": null,
      "grid_gap": null,
      "grid_row": null,
      "grid_template_areas": null,
      "grid_template_columns": null,
      "grid_template_rows": null,
      "height": null,
      "justify_content": null,
      "justify_items": null,
      "left": null,
      "margin": null,
      "max_height": null,
      "max_width": null,
      "min_height": null,
      "min_width": null,
      "object_fit": null,
      "object_position": null,
      "order": null,
      "overflow": null,
      "overflow_x": null,
      "overflow_y": null,
      "padding": null,
      "right": null,
      "top": null,
      "visibility": null,
      "width": null
     }
    },
    "2fbc9c85abbb4c83a597c837793eb34c": {
     "model_module": "@jupyter-widgets/controls",
     "model_name": "HTMLModel",
     "state": {
      "_dom_classes": [],
      "_model_module": "@jupyter-widgets/controls",
      "_model_module_version": "1.5.0",
      "_model_name": "HTMLModel",
      "_view_count": null,
      "_view_module": "@jupyter-widgets/controls",
      "_view_module_version": "1.5.0",
      "_view_name": "HTMLView",
      "description": "",
      "description_tooltip": null,
      "layout": "IPY_MODEL_865482c6fc9640c9aa7e22311280ee4f",
      "placeholder": "​",
      "style": "IPY_MODEL_bacd4aa879ec4627aec779db75269aaf",
      "value": " 456k/456k [00:02&lt;00:00, 191kB/s]"
     }
    },
    "3728d82eb6e64922b596b7b6e54eacbe": {
     "model_module": "@jupyter-widgets/controls",
     "model_name": "HTMLModel",
     "state": {
      "_dom_classes": [],
      "_model_module": "@jupyter-widgets/controls",
      "_model_module_version": "1.5.0",
      "_model_name": "HTMLModel",
      "_view_count": null,
      "_view_module": "@jupyter-widgets/controls",
      "_view_module_version": "1.5.0",
      "_view_name": "HTMLView",
      "description": "",
      "description_tooltip": null,
      "layout": "IPY_MODEL_8fc9695474274f17ab59e254998eecb0",
      "placeholder": "​",
      "style": "IPY_MODEL_6be340d03f52431d90270d639fb5301a",
      "value": " 1.36M/1.36M [00:00&lt;00:00, 2.31MB/s]"
     }
    },
    "564b6d6c2fe144088529fb07b17d88b2": {
     "model_module": "@jupyter-widgets/controls",
     "model_name": "ProgressStyleModel",
     "state": {
      "_model_module": "@jupyter-widgets/controls",
      "_model_module_version": "1.5.0",
      "_model_name": "ProgressStyleModel",
      "_view_count": null,
      "_view_module": "@jupyter-widgets/base",
      "_view_module_version": "1.2.0",
      "_view_name": "StyleView",
      "bar_color": null,
      "description_width": "initial"
     }
    },
    "672bfae55e00437ab0a755f071f63e9d": {
     "model_module": "@jupyter-widgets/controls",
     "model_name": "FloatProgressModel",
     "state": {
      "_dom_classes": [],
      "_model_module": "@jupyter-widgets/controls",
      "_model_module_version": "1.5.0",
      "_model_name": "FloatProgressModel",
      "_view_count": null,
      "_view_module": "@jupyter-widgets/controls",
      "_view_module_version": "1.5.0",
      "_view_name": "ProgressView",
      "bar_style": "success",
      "description": "Downloading: 100%",
      "description_tooltip": null,
      "layout": "IPY_MODEL_fa1e7dc758fe443f883be3a752719852",
      "max": 1355863,
      "min": 0,
      "orientation": "horizontal",
      "style": "IPY_MODEL_b06915f447b340249fac2a36e9aa65bb",
      "value": 1355863
     }
    },
    "6be340d03f52431d90270d639fb5301a": {
     "model_module": "@jupyter-widgets/controls",
     "model_name": "DescriptionStyleModel",
     "state": {
      "_model_module": "@jupyter-widgets/controls",
      "_model_module_version": "1.5.0",
      "_model_name": "DescriptionStyleModel",
      "_view_count": null,
      "_view_module": "@jupyter-widgets/base",
      "_view_module_version": "1.2.0",
      "_view_name": "StyleView",
      "description_width": ""
     }
    },
    "76e970b888e14513919888fedd6cb574": {
     "model_module": "@jupyter-widgets/controls",
     "model_name": "ProgressStyleModel",
     "state": {
      "_model_module": "@jupyter-widgets/controls",
      "_model_module_version": "1.5.0",
      "_model_name": "ProgressStyleModel",
      "_view_count": null,
      "_view_module": "@jupyter-widgets/base",
      "_view_module_version": "1.2.0",
      "_view_name": "StyleView",
      "bar_color": null,
      "description_width": "initial"
     }
    },
    "7a1eef47fb9d49a79b2e118443f7d166": {
     "model_module": "@jupyter-widgets/controls",
     "model_name": "DescriptionStyleModel",
     "state": {
      "_model_module": "@jupyter-widgets/controls",
      "_model_module_version": "1.5.0",
      "_model_name": "DescriptionStyleModel",
      "_view_count": null,
      "_view_module": "@jupyter-widgets/base",
      "_view_module_version": "1.2.0",
      "_view_name": "StyleView",
      "description_width": ""
     }
    },
    "7bcebef032ef4ba28c011e6ecfa8415e": {
     "model_module": "@jupyter-widgets/controls",
     "model_name": "HBoxModel",
     "state": {
      "_dom_classes": [],
      "_model_module": "@jupyter-widgets/controls",
      "_model_module_version": "1.5.0",
      "_model_name": "HBoxModel",
      "_view_count": null,
      "_view_module": "@jupyter-widgets/controls",
      "_view_module_version": "1.5.0",
      "_view_name": "HBoxView",
      "box_style": "",
      "children": [
       "IPY_MODEL_919d810ada27480f9ef5f221f8097733",
       "IPY_MODEL_cbacda1f6dd0471e889f59af0bdd06f5"
      ],
      "layout": "IPY_MODEL_fd7097bc666c4fcbb850ccda60eb0f99"
     }
    },
    "7bd33dd6e889487d813326a56e9d94ad": {
     "model_module": "@jupyter-widgets/controls",
     "model_name": "FloatProgressModel",
     "state": {
      "_dom_classes": [],
      "_model_module": "@jupyter-widgets/controls",
      "_model_module_version": "1.5.0",
      "_model_name": "FloatProgressModel",
      "_view_count": null,
      "_view_module": "@jupyter-widgets/controls",
      "_view_module_version": "1.5.0",
      "_view_name": "ProgressView",
      "bar_style": "success",
      "description": "Downloading: 100%",
      "description_tooltip": null,
      "layout": "IPY_MODEL_d0065e487dff497ab4a870bc3915aaf4",
      "max": 456318,
      "min": 0,
      "orientation": "horizontal",
      "style": "IPY_MODEL_564b6d6c2fe144088529fb07b17d88b2",
      "value": 456318
     }
    },
    "865482c6fc9640c9aa7e22311280ee4f": {
     "model_module": "@jupyter-widgets/base",
     "model_name": "LayoutModel",
     "state": {
      "_model_module": "@jupyter-widgets/base",
      "_model_module_version": "1.2.0",
      "_model_name": "LayoutModel",
      "_view_count": null,
      "_view_module": "@jupyter-widgets/base",
      "_view_module_version": "1.2.0",
      "_view_name": "LayoutView",
      "align_content": null,
      "align_items": null,
      "align_self": null,
      "border": null,
      "bottom": null,
      "display": null,
      "flex": null,
      "flex_flow": null,
      "grid_area": null,
      "grid_auto_columns": null,
      "grid_auto_flow": null,
      "grid_auto_rows": null,
      "grid_column": null,
      "grid_gap": null,
      "grid_row": null,
      "grid_template_areas": null,
      "grid_template_columns": null,
      "grid_template_rows": null,
      "height": null,
      "justify_content": null,
      "justify_items": null,
      "left": null,
      "margin": null,
      "max_height": null,
      "max_width": null,
      "min_height": null,
      "min_width": null,
      "object_fit": null,
      "object_position": null,
      "order": null,
      "overflow": null,
      "overflow_x": null,
      "overflow_y": null,
      "padding": null,
      "right": null,
      "top": null,
      "visibility": null,
      "width": null
     }
    },
    "8fc9695474274f17ab59e254998eecb0": {
     "model_module": "@jupyter-widgets/base",
     "model_name": "LayoutModel",
     "state": {
      "_model_module": "@jupyter-widgets/base",
      "_model_module_version": "1.2.0",
      "_model_name": "LayoutModel",
      "_view_count": null,
      "_view_module": "@jupyter-widgets/base",
      "_view_module_version": "1.2.0",
      "_view_name": "LayoutView",
      "align_content": null,
      "align_items": null,
      "align_self": null,
      "border": null,
      "bottom": null,
      "display": null,
      "flex": null,
      "flex_flow": null,
      "grid_area": null,
      "grid_auto_columns": null,
      "grid_auto_flow": null,
      "grid_auto_rows": null,
      "grid_column": null,
      "grid_gap": null,
      "grid_row": null,
      "grid_template_areas": null,
      "grid_template_columns": null,
      "grid_template_rows": null,
      "height": null,
      "justify_content": null,
      "justify_items": null,
      "left": null,
      "margin": null,
      "max_height": null,
      "max_width": null,
      "min_height": null,
      "min_width": null,
      "object_fit": null,
      "object_position": null,
      "order": null,
      "overflow": null,
      "overflow_x": null,
      "overflow_y": null,
      "padding": null,
      "right": null,
      "top": null,
      "visibility": null,
      "width": null
     }
    },
    "919d810ada27480f9ef5f221f8097733": {
     "model_module": "@jupyter-widgets/controls",
     "model_name": "FloatProgressModel",
     "state": {
      "_dom_classes": [],
      "_model_module": "@jupyter-widgets/controls",
      "_model_module_version": "1.5.0",
      "_model_name": "FloatProgressModel",
      "_view_count": null,
      "_view_module": "@jupyter-widgets/controls",
      "_view_module_version": "1.5.0",
      "_view_name": "ProgressView",
      "bar_style": "success",
      "description": "Downloading: 100%",
      "description_tooltip": null,
      "layout": "IPY_MODEL_d752d8e9dfa54b0c86b0a543bafd239e",
      "max": 898823,
      "min": 0,
      "orientation": "horizontal",
      "style": "IPY_MODEL_76e970b888e14513919888fedd6cb574",
      "value": 898823
     }
    },
    "9827ce417dad4aba80c5b21b861da24e": {
     "model_module": "@jupyter-widgets/controls",
     "model_name": "HBoxModel",
     "state": {
      "_dom_classes": [],
      "_model_module": "@jupyter-widgets/controls",
      "_model_module_version": "1.5.0",
      "_model_name": "HBoxModel",
      "_view_count": null,
      "_view_module": "@jupyter-widgets/controls",
      "_view_module_version": "1.5.0",
      "_view_name": "HBoxView",
      "box_style": "",
      "children": [
       "IPY_MODEL_7bd33dd6e889487d813326a56e9d94ad",
       "IPY_MODEL_2fbc9c85abbb4c83a597c837793eb34c"
      ],
      "layout": "IPY_MODEL_ff4060fcd04449e0aa3ec1bc2f164ab9"
     }
    },
    "9ab8918b1df041f188d49d63900eacd1": {
     "model_module": "@jupyter-widgets/controls",
     "model_name": "HBoxModel",
     "state": {
      "_dom_classes": [],
      "_model_module": "@jupyter-widgets/controls",
      "_model_module_version": "1.5.0",
      "_model_name": "HBoxModel",
      "_view_count": null,
      "_view_module": "@jupyter-widgets/controls",
      "_view_module_version": "1.5.0",
      "_view_name": "HBoxView",
      "box_style": "",
      "children": [
       "IPY_MODEL_672bfae55e00437ab0a755f071f63e9d",
       "IPY_MODEL_3728d82eb6e64922b596b7b6e54eacbe"
      ],
      "layout": "IPY_MODEL_a8453cc9ffdf4e7dbeb7de6d6cbb0b03"
     }
    },
    "a8453cc9ffdf4e7dbeb7de6d6cbb0b03": {
     "model_module": "@jupyter-widgets/base",
     "model_name": "LayoutModel",
     "state": {
      "_model_module": "@jupyter-widgets/base",
      "_model_module_version": "1.2.0",
      "_model_name": "LayoutModel",
      "_view_count": null,
      "_view_module": "@jupyter-widgets/base",
      "_view_module_version": "1.2.0",
      "_view_name": "LayoutView",
      "align_content": null,
      "align_items": null,
      "align_self": null,
      "border": null,
      "bottom": null,
      "display": null,
      "flex": null,
      "flex_flow": null,
      "grid_area": null,
      "grid_auto_columns": null,
      "grid_auto_flow": null,
      "grid_auto_rows": null,
      "grid_column": null,
      "grid_gap": null,
      "grid_row": null,
      "grid_template_areas": null,
      "grid_template_columns": null,
      "grid_template_rows": null,
      "height": null,
      "justify_content": null,
      "justify_items": null,
      "left": null,
      "margin": null,
      "max_height": null,
      "max_width": null,
      "min_height": null,
      "min_width": null,
      "object_fit": null,
      "object_position": null,
      "order": null,
      "overflow": null,
      "overflow_x": null,
      "overflow_y": null,
      "padding": null,
      "right": null,
      "top": null,
      "visibility": null,
      "width": null
     }
    },
    "b06915f447b340249fac2a36e9aa65bb": {
     "model_module": "@jupyter-widgets/controls",
     "model_name": "ProgressStyleModel",
     "state": {
      "_model_module": "@jupyter-widgets/controls",
      "_model_module_version": "1.5.0",
      "_model_name": "ProgressStyleModel",
      "_view_count": null,
      "_view_module": "@jupyter-widgets/base",
      "_view_module_version": "1.2.0",
      "_view_name": "StyleView",
      "bar_color": null,
      "description_width": "initial"
     }
    },
    "bacd4aa879ec4627aec779db75269aaf": {
     "model_module": "@jupyter-widgets/controls",
     "model_name": "DescriptionStyleModel",
     "state": {
      "_model_module": "@jupyter-widgets/controls",
      "_model_module_version": "1.5.0",
      "_model_name": "DescriptionStyleModel",
      "_view_count": null,
      "_view_module": "@jupyter-widgets/base",
      "_view_module_version": "1.2.0",
      "_view_name": "StyleView",
      "description_width": ""
     }
    },
    "cbacda1f6dd0471e889f59af0bdd06f5": {
     "model_module": "@jupyter-widgets/controls",
     "model_name": "HTMLModel",
     "state": {
      "_dom_classes": [],
      "_model_module": "@jupyter-widgets/controls",
      "_model_module_version": "1.5.0",
      "_model_name": "HTMLModel",
      "_view_count": null,
      "_view_module": "@jupyter-widgets/controls",
      "_view_module_version": "1.5.0",
      "_view_name": "HTMLView",
      "description": "",
      "description_tooltip": null,
      "layout": "IPY_MODEL_203128e7adf646309ebdd53ba04e2e35",
      "placeholder": "​",
      "style": "IPY_MODEL_7a1eef47fb9d49a79b2e118443f7d166",
      "value": " 899k/899k [00:03&lt;00:00, 263kB/s]"
     }
    },
    "d0065e487dff497ab4a870bc3915aaf4": {
     "model_module": "@jupyter-widgets/base",
     "model_name": "LayoutModel",
     "state": {
      "_model_module": "@jupyter-widgets/base",
      "_model_module_version": "1.2.0",
      "_model_name": "LayoutModel",
      "_view_count": null,
      "_view_module": "@jupyter-widgets/base",
      "_view_module_version": "1.2.0",
      "_view_name": "LayoutView",
      "align_content": null,
      "align_items": null,
      "align_self": null,
      "border": null,
      "bottom": null,
      "display": null,
      "flex": null,
      "flex_flow": null,
      "grid_area": null,
      "grid_auto_columns": null,
      "grid_auto_flow": null,
      "grid_auto_rows": null,
      "grid_column": null,
      "grid_gap": null,
      "grid_row": null,
      "grid_template_areas": null,
      "grid_template_columns": null,
      "grid_template_rows": null,
      "height": null,
      "justify_content": null,
      "justify_items": null,
      "left": null,
      "margin": null,
      "max_height": null,
      "max_width": null,
      "min_height": null,
      "min_width": null,
      "object_fit": null,
      "object_position": null,
      "order": null,
      "overflow": null,
      "overflow_x": null,
      "overflow_y": null,
      "padding": null,
      "right": null,
      "top": null,
      "visibility": null,
      "width": null
     }
    },
    "d752d8e9dfa54b0c86b0a543bafd239e": {
     "model_module": "@jupyter-widgets/base",
     "model_name": "LayoutModel",
     "state": {
      "_model_module": "@jupyter-widgets/base",
      "_model_module_version": "1.2.0",
      "_model_name": "LayoutModel",
      "_view_count": null,
      "_view_module": "@jupyter-widgets/base",
      "_view_module_version": "1.2.0",
      "_view_name": "LayoutView",
      "align_content": null,
      "align_items": null,
      "align_self": null,
      "border": null,
      "bottom": null,
      "display": null,
      "flex": null,
      "flex_flow": null,
      "grid_area": null,
      "grid_auto_columns": null,
      "grid_auto_flow": null,
      "grid_auto_rows": null,
      "grid_column": null,
      "grid_gap": null,
      "grid_row": null,
      "grid_template_areas": null,
      "grid_template_columns": null,
      "grid_template_rows": null,
      "height": null,
      "justify_content": null,
      "justify_items": null,
      "left": null,
      "margin": null,
      "max_height": null,
      "max_width": null,
      "min_height": null,
      "min_width": null,
      "object_fit": null,
      "object_position": null,
      "order": null,
      "overflow": null,
      "overflow_x": null,
      "overflow_y": null,
      "padding": null,
      "right": null,
      "top": null,
      "visibility": null,
      "width": null
     }
    },
    "fa1e7dc758fe443f883be3a752719852": {
     "model_module": "@jupyter-widgets/base",
     "model_name": "LayoutModel",
     "state": {
      "_model_module": "@jupyter-widgets/base",
      "_model_module_version": "1.2.0",
      "_model_name": "LayoutModel",
      "_view_count": null,
      "_view_module": "@jupyter-widgets/base",
      "_view_module_version": "1.2.0",
      "_view_name": "LayoutView",
      "align_content": null,
      "align_items": null,
      "align_self": null,
      "border": null,
      "bottom": null,
      "display": null,
      "flex": null,
      "flex_flow": null,
      "grid_area": null,
      "grid_auto_columns": null,
      "grid_auto_flow": null,
      "grid_auto_rows": null,
      "grid_column": null,
      "grid_gap": null,
      "grid_row": null,
      "grid_template_areas": null,
      "grid_template_columns": null,
      "grid_template_rows": null,
      "height": null,
      "justify_content": null,
      "justify_items": null,
      "left": null,
      "margin": null,
      "max_height": null,
      "max_width": null,
      "min_height": null,
      "min_width": null,
      "object_fit": null,
      "object_position": null,
      "order": null,
      "overflow": null,
      "overflow_x": null,
      "overflow_y": null,
      "padding": null,
      "right": null,
      "top": null,
      "visibility": null,
      "width": null
     }
    },
    "fd7097bc666c4fcbb850ccda60eb0f99": {
     "model_module": "@jupyter-widgets/base",
     "model_name": "LayoutModel",
     "state": {
      "_model_module": "@jupyter-widgets/base",
      "_model_module_version": "1.2.0",
      "_model_name": "LayoutModel",
      "_view_count": null,
      "_view_module": "@jupyter-widgets/base",
      "_view_module_version": "1.2.0",
      "_view_name": "LayoutView",
      "align_content": null,
      "align_items": null,
      "align_self": null,
      "border": null,
      "bottom": null,
      "display": null,
      "flex": null,
      "flex_flow": null,
      "grid_area": null,
      "grid_auto_columns": null,
      "grid_auto_flow": null,
      "grid_auto_rows": null,
      "grid_column": null,
      "grid_gap": null,
      "grid_row": null,
      "grid_template_areas": null,
      "grid_template_columns": null,
      "grid_template_rows": null,
      "height": null,
      "justify_content": null,
      "justify_items": null,
      "left": null,
      "margin": null,
      "max_height": null,
      "max_width": null,
      "min_height": null,
      "min_width": null,
      "object_fit": null,
      "object_position": null,
      "order": null,
      "overflow": null,
      "overflow_x": null,
      "overflow_y": null,
      "padding": null,
      "right": null,
      "top": null,
      "visibility": null,
      "width": null
     }
    },
    "ff4060fcd04449e0aa3ec1bc2f164ab9": {
     "model_module": "@jupyter-widgets/base",
     "model_name": "LayoutModel",
     "state": {
      "_model_module": "@jupyter-widgets/base",
      "_model_module_version": "1.2.0",
      "_model_name": "LayoutModel",
      "_view_count": null,
      "_view_module": "@jupyter-widgets/base",
      "_view_module_version": "1.2.0",
      "_view_name": "LayoutView",
      "align_content": null,
      "align_items": null,
      "align_self": null,
      "border": null,
      "bottom": null,
      "display": null,
      "flex": null,
      "flex_flow": null,
      "grid_area": null,
      "grid_auto_columns": null,
      "grid_auto_flow": null,
      "grid_auto_rows": null,
      "grid_column": null,
      "grid_gap": null,
      "grid_row": null,
      "grid_template_areas": null,
      "grid_template_columns": null,
      "grid_template_rows": null,
      "height": null,
      "justify_content": null,
      "justify_items": null,
      "left": null,
      "margin": null,
      "max_height": null,
      "max_width": null,
      "min_height": null,
      "min_width": null,
      "object_fit": null,
      "object_position": null,
      "order": null,
      "overflow": null,
      "overflow_x": null,
      "overflow_y": null,
      "padding": null,
      "right": null,
      "top": null,
      "visibility": null,
      "width": null
     }
    }
   }
  }
 },
 "nbformat": 4,
 "nbformat_minor": 1
}
