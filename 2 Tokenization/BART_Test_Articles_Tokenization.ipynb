{
  "nbformat": 4,
  "nbformat_minor": 0,
  "metadata": {
    "colab": {
      "name": "BART Test Articles Tokenization.ipynb",
      "provenance": [],
      "collapsed_sections": [],
      "machine_shape": "hm"
    },
    "kernelspec": {
      "display_name": "Python 3",
      "name": "python3"
    },
    "language_info": {
      "name": "python"
    },
    "widgets": {
      "application/vnd.jupyter.widget-state+json": {
        "7bcebef032ef4ba28c011e6ecfa8415e": {
          "model_module": "@jupyter-widgets/controls",
          "model_name": "HBoxModel",
          "state": {
            "_view_name": "HBoxView",
            "_dom_classes": [],
            "_model_name": "HBoxModel",
            "_view_module": "@jupyter-widgets/controls",
            "_model_module_version": "1.5.0",
            "_view_count": null,
            "_view_module_version": "1.5.0",
            "box_style": "",
            "layout": "IPY_MODEL_fd7097bc666c4fcbb850ccda60eb0f99",
            "_model_module": "@jupyter-widgets/controls",
            "children": [
              "IPY_MODEL_919d810ada27480f9ef5f221f8097733",
              "IPY_MODEL_cbacda1f6dd0471e889f59af0bdd06f5"
            ]
          }
        },
        "fd7097bc666c4fcbb850ccda60eb0f99": {
          "model_module": "@jupyter-widgets/base",
          "model_name": "LayoutModel",
          "state": {
            "_view_name": "LayoutView",
            "grid_template_rows": null,
            "right": null,
            "justify_content": null,
            "_view_module": "@jupyter-widgets/base",
            "overflow": null,
            "_model_module_version": "1.2.0",
            "_view_count": null,
            "flex_flow": null,
            "width": null,
            "min_width": null,
            "border": null,
            "align_items": null,
            "bottom": null,
            "_model_module": "@jupyter-widgets/base",
            "top": null,
            "grid_column": null,
            "overflow_y": null,
            "overflow_x": null,
            "grid_auto_flow": null,
            "grid_area": null,
            "grid_template_columns": null,
            "flex": null,
            "_model_name": "LayoutModel",
            "justify_items": null,
            "grid_row": null,
            "max_height": null,
            "align_content": null,
            "visibility": null,
            "align_self": null,
            "height": null,
            "min_height": null,
            "padding": null,
            "grid_auto_rows": null,
            "grid_gap": null,
            "max_width": null,
            "order": null,
            "_view_module_version": "1.2.0",
            "grid_template_areas": null,
            "object_position": null,
            "object_fit": null,
            "grid_auto_columns": null,
            "margin": null,
            "display": null,
            "left": null
          }
        },
        "919d810ada27480f9ef5f221f8097733": {
          "model_module": "@jupyter-widgets/controls",
          "model_name": "FloatProgressModel",
          "state": {
            "_view_name": "ProgressView",
            "style": "IPY_MODEL_76e970b888e14513919888fedd6cb574",
            "_dom_classes": [],
            "description": "Downloading: 100%",
            "_model_name": "FloatProgressModel",
            "bar_style": "success",
            "max": 898823,
            "_view_module": "@jupyter-widgets/controls",
            "_model_module_version": "1.5.0",
            "value": 898823,
            "_view_count": null,
            "_view_module_version": "1.5.0",
            "orientation": "horizontal",
            "min": 0,
            "description_tooltip": null,
            "_model_module": "@jupyter-widgets/controls",
            "layout": "IPY_MODEL_d752d8e9dfa54b0c86b0a543bafd239e"
          }
        },
        "cbacda1f6dd0471e889f59af0bdd06f5": {
          "model_module": "@jupyter-widgets/controls",
          "model_name": "HTMLModel",
          "state": {
            "_view_name": "HTMLView",
            "style": "IPY_MODEL_7a1eef47fb9d49a79b2e118443f7d166",
            "_dom_classes": [],
            "description": "",
            "_model_name": "HTMLModel",
            "placeholder": "​",
            "_view_module": "@jupyter-widgets/controls",
            "_model_module_version": "1.5.0",
            "value": " 899k/899k [00:03&lt;00:00, 263kB/s]",
            "_view_count": null,
            "_view_module_version": "1.5.0",
            "description_tooltip": null,
            "_model_module": "@jupyter-widgets/controls",
            "layout": "IPY_MODEL_203128e7adf646309ebdd53ba04e2e35"
          }
        },
        "76e970b888e14513919888fedd6cb574": {
          "model_module": "@jupyter-widgets/controls",
          "model_name": "ProgressStyleModel",
          "state": {
            "_view_name": "StyleView",
            "_model_name": "ProgressStyleModel",
            "description_width": "initial",
            "_view_module": "@jupyter-widgets/base",
            "_model_module_version": "1.5.0",
            "_view_count": null,
            "_view_module_version": "1.2.0",
            "bar_color": null,
            "_model_module": "@jupyter-widgets/controls"
          }
        },
        "d752d8e9dfa54b0c86b0a543bafd239e": {
          "model_module": "@jupyter-widgets/base",
          "model_name": "LayoutModel",
          "state": {
            "_view_name": "LayoutView",
            "grid_template_rows": null,
            "right": null,
            "justify_content": null,
            "_view_module": "@jupyter-widgets/base",
            "overflow": null,
            "_model_module_version": "1.2.0",
            "_view_count": null,
            "flex_flow": null,
            "width": null,
            "min_width": null,
            "border": null,
            "align_items": null,
            "bottom": null,
            "_model_module": "@jupyter-widgets/base",
            "top": null,
            "grid_column": null,
            "overflow_y": null,
            "overflow_x": null,
            "grid_auto_flow": null,
            "grid_area": null,
            "grid_template_columns": null,
            "flex": null,
            "_model_name": "LayoutModel",
            "justify_items": null,
            "grid_row": null,
            "max_height": null,
            "align_content": null,
            "visibility": null,
            "align_self": null,
            "height": null,
            "min_height": null,
            "padding": null,
            "grid_auto_rows": null,
            "grid_gap": null,
            "max_width": null,
            "order": null,
            "_view_module_version": "1.2.0",
            "grid_template_areas": null,
            "object_position": null,
            "object_fit": null,
            "grid_auto_columns": null,
            "margin": null,
            "display": null,
            "left": null
          }
        },
        "7a1eef47fb9d49a79b2e118443f7d166": {
          "model_module": "@jupyter-widgets/controls",
          "model_name": "DescriptionStyleModel",
          "state": {
            "_view_name": "StyleView",
            "_model_name": "DescriptionStyleModel",
            "description_width": "",
            "_view_module": "@jupyter-widgets/base",
            "_model_module_version": "1.5.0",
            "_view_count": null,
            "_view_module_version": "1.2.0",
            "_model_module": "@jupyter-widgets/controls"
          }
        },
        "203128e7adf646309ebdd53ba04e2e35": {
          "model_module": "@jupyter-widgets/base",
          "model_name": "LayoutModel",
          "state": {
            "_view_name": "LayoutView",
            "grid_template_rows": null,
            "right": null,
            "justify_content": null,
            "_view_module": "@jupyter-widgets/base",
            "overflow": null,
            "_model_module_version": "1.2.0",
            "_view_count": null,
            "flex_flow": null,
            "width": null,
            "min_width": null,
            "border": null,
            "align_items": null,
            "bottom": null,
            "_model_module": "@jupyter-widgets/base",
            "top": null,
            "grid_column": null,
            "overflow_y": null,
            "overflow_x": null,
            "grid_auto_flow": null,
            "grid_area": null,
            "grid_template_columns": null,
            "flex": null,
            "_model_name": "LayoutModel",
            "justify_items": null,
            "grid_row": null,
            "max_height": null,
            "align_content": null,
            "visibility": null,
            "align_self": null,
            "height": null,
            "min_height": null,
            "padding": null,
            "grid_auto_rows": null,
            "grid_gap": null,
            "max_width": null,
            "order": null,
            "_view_module_version": "1.2.0",
            "grid_template_areas": null,
            "object_position": null,
            "object_fit": null,
            "grid_auto_columns": null,
            "margin": null,
            "display": null,
            "left": null
          }
        },
        "9827ce417dad4aba80c5b21b861da24e": {
          "model_module": "@jupyter-widgets/controls",
          "model_name": "HBoxModel",
          "state": {
            "_view_name": "HBoxView",
            "_dom_classes": [],
            "_model_name": "HBoxModel",
            "_view_module": "@jupyter-widgets/controls",
            "_model_module_version": "1.5.0",
            "_view_count": null,
            "_view_module_version": "1.5.0",
            "box_style": "",
            "layout": "IPY_MODEL_ff4060fcd04449e0aa3ec1bc2f164ab9",
            "_model_module": "@jupyter-widgets/controls",
            "children": [
              "IPY_MODEL_7bd33dd6e889487d813326a56e9d94ad",
              "IPY_MODEL_2fbc9c85abbb4c83a597c837793eb34c"
            ]
          }
        },
        "ff4060fcd04449e0aa3ec1bc2f164ab9": {
          "model_module": "@jupyter-widgets/base",
          "model_name": "LayoutModel",
          "state": {
            "_view_name": "LayoutView",
            "grid_template_rows": null,
            "right": null,
            "justify_content": null,
            "_view_module": "@jupyter-widgets/base",
            "overflow": null,
            "_model_module_version": "1.2.0",
            "_view_count": null,
            "flex_flow": null,
            "width": null,
            "min_width": null,
            "border": null,
            "align_items": null,
            "bottom": null,
            "_model_module": "@jupyter-widgets/base",
            "top": null,
            "grid_column": null,
            "overflow_y": null,
            "overflow_x": null,
            "grid_auto_flow": null,
            "grid_area": null,
            "grid_template_columns": null,
            "flex": null,
            "_model_name": "LayoutModel",
            "justify_items": null,
            "grid_row": null,
            "max_height": null,
            "align_content": null,
            "visibility": null,
            "align_self": null,
            "height": null,
            "min_height": null,
            "padding": null,
            "grid_auto_rows": null,
            "grid_gap": null,
            "max_width": null,
            "order": null,
            "_view_module_version": "1.2.0",
            "grid_template_areas": null,
            "object_position": null,
            "object_fit": null,
            "grid_auto_columns": null,
            "margin": null,
            "display": null,
            "left": null
          }
        },
        "7bd33dd6e889487d813326a56e9d94ad": {
          "model_module": "@jupyter-widgets/controls",
          "model_name": "FloatProgressModel",
          "state": {
            "_view_name": "ProgressView",
            "style": "IPY_MODEL_564b6d6c2fe144088529fb07b17d88b2",
            "_dom_classes": [],
            "description": "Downloading: 100%",
            "_model_name": "FloatProgressModel",
            "bar_style": "success",
            "max": 456318,
            "_view_module": "@jupyter-widgets/controls",
            "_model_module_version": "1.5.0",
            "value": 456318,
            "_view_count": null,
            "_view_module_version": "1.5.0",
            "orientation": "horizontal",
            "min": 0,
            "description_tooltip": null,
            "_model_module": "@jupyter-widgets/controls",
            "layout": "IPY_MODEL_d0065e487dff497ab4a870bc3915aaf4"
          }
        },
        "2fbc9c85abbb4c83a597c837793eb34c": {
          "model_module": "@jupyter-widgets/controls",
          "model_name": "HTMLModel",
          "state": {
            "_view_name": "HTMLView",
            "style": "IPY_MODEL_bacd4aa879ec4627aec779db75269aaf",
            "_dom_classes": [],
            "description": "",
            "_model_name": "HTMLModel",
            "placeholder": "​",
            "_view_module": "@jupyter-widgets/controls",
            "_model_module_version": "1.5.0",
            "value": " 456k/456k [00:02&lt;00:00, 191kB/s]",
            "_view_count": null,
            "_view_module_version": "1.5.0",
            "description_tooltip": null,
            "_model_module": "@jupyter-widgets/controls",
            "layout": "IPY_MODEL_865482c6fc9640c9aa7e22311280ee4f"
          }
        },
        "564b6d6c2fe144088529fb07b17d88b2": {
          "model_module": "@jupyter-widgets/controls",
          "model_name": "ProgressStyleModel",
          "state": {
            "_view_name": "StyleView",
            "_model_name": "ProgressStyleModel",
            "description_width": "initial",
            "_view_module": "@jupyter-widgets/base",
            "_model_module_version": "1.5.0",
            "_view_count": null,
            "_view_module_version": "1.2.0",
            "bar_color": null,
            "_model_module": "@jupyter-widgets/controls"
          }
        },
        "d0065e487dff497ab4a870bc3915aaf4": {
          "model_module": "@jupyter-widgets/base",
          "model_name": "LayoutModel",
          "state": {
            "_view_name": "LayoutView",
            "grid_template_rows": null,
            "right": null,
            "justify_content": null,
            "_view_module": "@jupyter-widgets/base",
            "overflow": null,
            "_model_module_version": "1.2.0",
            "_view_count": null,
            "flex_flow": null,
            "width": null,
            "min_width": null,
            "border": null,
            "align_items": null,
            "bottom": null,
            "_model_module": "@jupyter-widgets/base",
            "top": null,
            "grid_column": null,
            "overflow_y": null,
            "overflow_x": null,
            "grid_auto_flow": null,
            "grid_area": null,
            "grid_template_columns": null,
            "flex": null,
            "_model_name": "LayoutModel",
            "justify_items": null,
            "grid_row": null,
            "max_height": null,
            "align_content": null,
            "visibility": null,
            "align_self": null,
            "height": null,
            "min_height": null,
            "padding": null,
            "grid_auto_rows": null,
            "grid_gap": null,
            "max_width": null,
            "order": null,
            "_view_module_version": "1.2.0",
            "grid_template_areas": null,
            "object_position": null,
            "object_fit": null,
            "grid_auto_columns": null,
            "margin": null,
            "display": null,
            "left": null
          }
        },
        "bacd4aa879ec4627aec779db75269aaf": {
          "model_module": "@jupyter-widgets/controls",
          "model_name": "DescriptionStyleModel",
          "state": {
            "_view_name": "StyleView",
            "_model_name": "DescriptionStyleModel",
            "description_width": "",
            "_view_module": "@jupyter-widgets/base",
            "_model_module_version": "1.5.0",
            "_view_count": null,
            "_view_module_version": "1.2.0",
            "_model_module": "@jupyter-widgets/controls"
          }
        },
        "865482c6fc9640c9aa7e22311280ee4f": {
          "model_module": "@jupyter-widgets/base",
          "model_name": "LayoutModel",
          "state": {
            "_view_name": "LayoutView",
            "grid_template_rows": null,
            "right": null,
            "justify_content": null,
            "_view_module": "@jupyter-widgets/base",
            "overflow": null,
            "_model_module_version": "1.2.0",
            "_view_count": null,
            "flex_flow": null,
            "width": null,
            "min_width": null,
            "border": null,
            "align_items": null,
            "bottom": null,
            "_model_module": "@jupyter-widgets/base",
            "top": null,
            "grid_column": null,
            "overflow_y": null,
            "overflow_x": null,
            "grid_auto_flow": null,
            "grid_area": null,
            "grid_template_columns": null,
            "flex": null,
            "_model_name": "LayoutModel",
            "justify_items": null,
            "grid_row": null,
            "max_height": null,
            "align_content": null,
            "visibility": null,
            "align_self": null,
            "height": null,
            "min_height": null,
            "padding": null,
            "grid_auto_rows": null,
            "grid_gap": null,
            "max_width": null,
            "order": null,
            "_view_module_version": "1.2.0",
            "grid_template_areas": null,
            "object_position": null,
            "object_fit": null,
            "grid_auto_columns": null,
            "margin": null,
            "display": null,
            "left": null
          }
        },
        "9ab8918b1df041f188d49d63900eacd1": {
          "model_module": "@jupyter-widgets/controls",
          "model_name": "HBoxModel",
          "state": {
            "_view_name": "HBoxView",
            "_dom_classes": [],
            "_model_name": "HBoxModel",
            "_view_module": "@jupyter-widgets/controls",
            "_model_module_version": "1.5.0",
            "_view_count": null,
            "_view_module_version": "1.5.0",
            "box_style": "",
            "layout": "IPY_MODEL_a8453cc9ffdf4e7dbeb7de6d6cbb0b03",
            "_model_module": "@jupyter-widgets/controls",
            "children": [
              "IPY_MODEL_672bfae55e00437ab0a755f071f63e9d",
              "IPY_MODEL_3728d82eb6e64922b596b7b6e54eacbe"
            ]
          }
        },
        "a8453cc9ffdf4e7dbeb7de6d6cbb0b03": {
          "model_module": "@jupyter-widgets/base",
          "model_name": "LayoutModel",
          "state": {
            "_view_name": "LayoutView",
            "grid_template_rows": null,
            "right": null,
            "justify_content": null,
            "_view_module": "@jupyter-widgets/base",
            "overflow": null,
            "_model_module_version": "1.2.0",
            "_view_count": null,
            "flex_flow": null,
            "width": null,
            "min_width": null,
            "border": null,
            "align_items": null,
            "bottom": null,
            "_model_module": "@jupyter-widgets/base",
            "top": null,
            "grid_column": null,
            "overflow_y": null,
            "overflow_x": null,
            "grid_auto_flow": null,
            "grid_area": null,
            "grid_template_columns": null,
            "flex": null,
            "_model_name": "LayoutModel",
            "justify_items": null,
            "grid_row": null,
            "max_height": null,
            "align_content": null,
            "visibility": null,
            "align_self": null,
            "height": null,
            "min_height": null,
            "padding": null,
            "grid_auto_rows": null,
            "grid_gap": null,
            "max_width": null,
            "order": null,
            "_view_module_version": "1.2.0",
            "grid_template_areas": null,
            "object_position": null,
            "object_fit": null,
            "grid_auto_columns": null,
            "margin": null,
            "display": null,
            "left": null
          }
        },
        "672bfae55e00437ab0a755f071f63e9d": {
          "model_module": "@jupyter-widgets/controls",
          "model_name": "FloatProgressModel",
          "state": {
            "_view_name": "ProgressView",
            "style": "IPY_MODEL_b06915f447b340249fac2a36e9aa65bb",
            "_dom_classes": [],
            "description": "Downloading: 100%",
            "_model_name": "FloatProgressModel",
            "bar_style": "success",
            "max": 1355863,
            "_view_module": "@jupyter-widgets/controls",
            "_model_module_version": "1.5.0",
            "value": 1355863,
            "_view_count": null,
            "_view_module_version": "1.5.0",
            "orientation": "horizontal",
            "min": 0,
            "description_tooltip": null,
            "_model_module": "@jupyter-widgets/controls",
            "layout": "IPY_MODEL_fa1e7dc758fe443f883be3a752719852"
          }
        },
        "3728d82eb6e64922b596b7b6e54eacbe": {
          "model_module": "@jupyter-widgets/controls",
          "model_name": "HTMLModel",
          "state": {
            "_view_name": "HTMLView",
            "style": "IPY_MODEL_6be340d03f52431d90270d639fb5301a",
            "_dom_classes": [],
            "description": "",
            "_model_name": "HTMLModel",
            "placeholder": "​",
            "_view_module": "@jupyter-widgets/controls",
            "_model_module_version": "1.5.0",
            "value": " 1.36M/1.36M [00:00&lt;00:00, 2.31MB/s]",
            "_view_count": null,
            "_view_module_version": "1.5.0",
            "description_tooltip": null,
            "_model_module": "@jupyter-widgets/controls",
            "layout": "IPY_MODEL_8fc9695474274f17ab59e254998eecb0"
          }
        },
        "b06915f447b340249fac2a36e9aa65bb": {
          "model_module": "@jupyter-widgets/controls",
          "model_name": "ProgressStyleModel",
          "state": {
            "_view_name": "StyleView",
            "_model_name": "ProgressStyleModel",
            "description_width": "initial",
            "_view_module": "@jupyter-widgets/base",
            "_model_module_version": "1.5.0",
            "_view_count": null,
            "_view_module_version": "1.2.0",
            "bar_color": null,
            "_model_module": "@jupyter-widgets/controls"
          }
        },
        "fa1e7dc758fe443f883be3a752719852": {
          "model_module": "@jupyter-widgets/base",
          "model_name": "LayoutModel",
          "state": {
            "_view_name": "LayoutView",
            "grid_template_rows": null,
            "right": null,
            "justify_content": null,
            "_view_module": "@jupyter-widgets/base",
            "overflow": null,
            "_model_module_version": "1.2.0",
            "_view_count": null,
            "flex_flow": null,
            "width": null,
            "min_width": null,
            "border": null,
            "align_items": null,
            "bottom": null,
            "_model_module": "@jupyter-widgets/base",
            "top": null,
            "grid_column": null,
            "overflow_y": null,
            "overflow_x": null,
            "grid_auto_flow": null,
            "grid_area": null,
            "grid_template_columns": null,
            "flex": null,
            "_model_name": "LayoutModel",
            "justify_items": null,
            "grid_row": null,
            "max_height": null,
            "align_content": null,
            "visibility": null,
            "align_self": null,
            "height": null,
            "min_height": null,
            "padding": null,
            "grid_auto_rows": null,
            "grid_gap": null,
            "max_width": null,
            "order": null,
            "_view_module_version": "1.2.0",
            "grid_template_areas": null,
            "object_position": null,
            "object_fit": null,
            "grid_auto_columns": null,
            "margin": null,
            "display": null,
            "left": null
          }
        },
        "6be340d03f52431d90270d639fb5301a": {
          "model_module": "@jupyter-widgets/controls",
          "model_name": "DescriptionStyleModel",
          "state": {
            "_view_name": "StyleView",
            "_model_name": "DescriptionStyleModel",
            "description_width": "",
            "_view_module": "@jupyter-widgets/base",
            "_model_module_version": "1.5.0",
            "_view_count": null,
            "_view_module_version": "1.2.0",
            "_model_module": "@jupyter-widgets/controls"
          }
        },
        "8fc9695474274f17ab59e254998eecb0": {
          "model_module": "@jupyter-widgets/base",
          "model_name": "LayoutModel",
          "state": {
            "_view_name": "LayoutView",
            "grid_template_rows": null,
            "right": null,
            "justify_content": null,
            "_view_module": "@jupyter-widgets/base",
            "overflow": null,
            "_model_module_version": "1.2.0",
            "_view_count": null,
            "flex_flow": null,
            "width": null,
            "min_width": null,
            "border": null,
            "align_items": null,
            "bottom": null,
            "_model_module": "@jupyter-widgets/base",
            "top": null,
            "grid_column": null,
            "overflow_y": null,
            "overflow_x": null,
            "grid_auto_flow": null,
            "grid_area": null,
            "grid_template_columns": null,
            "flex": null,
            "_model_name": "LayoutModel",
            "justify_items": null,
            "grid_row": null,
            "max_height": null,
            "align_content": null,
            "visibility": null,
            "align_self": null,
            "height": null,
            "min_height": null,
            "padding": null,
            "grid_auto_rows": null,
            "grid_gap": null,
            "max_width": null,
            "order": null,
            "_view_module_version": "1.2.0",
            "grid_template_areas": null,
            "object_position": null,
            "object_fit": null,
            "grid_auto_columns": null,
            "margin": null,
            "display": null,
            "left": null
          }
        }
      }
    }
  },
  "cells": [
    {
      "cell_type": "markdown",
      "metadata": {
        "id": "lr08TdVEkWJA"
      },
      "source": [
        "### This script tokenizes the articles in test set using BART tokenizer from Huggingface. The tokenized articles were then truncated under several different truncation conditions"
      ]
    },
    {
      "cell_type": "code",
      "metadata": {
        "id": "-RfzTCZCtW8n",
        "colab": {
          "base_uri": "https://localhost:8080/"
        },
        "outputId": "15723c69-5215-458f-c5d7-dc26323c7066"
      },
      "source": [
        "!pip install transformers\n",
        "\n",
        "from google.colab import drive\n",
        "drive.mount('/content/drive')"
      ],
      "execution_count": 1,
      "outputs": [
        {
          "output_type": "stream",
          "text": [
            "Mounted at /content/drive\n"
          ],
          "name": "stdout"
        }
      ]
    },
    {
      "cell_type": "code",
      "metadata": {
        "id": "40toBbDLtr9M",
        "colab": {
          "base_uri": "https://localhost:8080/",
          "height": 164,
          "referenced_widgets": [
            "7bcebef032ef4ba28c011e6ecfa8415e",
            "fd7097bc666c4fcbb850ccda60eb0f99",
            "919d810ada27480f9ef5f221f8097733",
            "cbacda1f6dd0471e889f59af0bdd06f5",
            "76e970b888e14513919888fedd6cb574",
            "d752d8e9dfa54b0c86b0a543bafd239e",
            "7a1eef47fb9d49a79b2e118443f7d166",
            "203128e7adf646309ebdd53ba04e2e35",
            "9827ce417dad4aba80c5b21b861da24e",
            "ff4060fcd04449e0aa3ec1bc2f164ab9",
            "7bd33dd6e889487d813326a56e9d94ad",
            "2fbc9c85abbb4c83a597c837793eb34c",
            "564b6d6c2fe144088529fb07b17d88b2",
            "d0065e487dff497ab4a870bc3915aaf4",
            "bacd4aa879ec4627aec779db75269aaf",
            "865482c6fc9640c9aa7e22311280ee4f",
            "9ab8918b1df041f188d49d63900eacd1",
            "a8453cc9ffdf4e7dbeb7de6d6cbb0b03",
            "672bfae55e00437ab0a755f071f63e9d",
            "3728d82eb6e64922b596b7b6e54eacbe",
            "b06915f447b340249fac2a36e9aa65bb",
            "fa1e7dc758fe443f883be3a752719852",
            "6be340d03f52431d90270d639fb5301a",
            "8fc9695474274f17ab59e254998eecb0"
          ]
        },
        "outputId": "3137f531-2c03-450c-9c3e-2ad6d2bc6bbc"
      },
      "source": [
        "import numpy as np\n",
        "import pandas as pd\n",
        "import torch\n",
        "import torch.nn as nn\n",
        "from transformers import BartTokenizer\n",
        "from time import time\n",
        "import matplotlib.pyplot as plt\n",
        "\n",
        "tokenizer = BartTokenizer.from_pretrained(\"facebook/bart-large-cnn\")"
      ],
      "execution_count": 2,
      "outputs": [
        {
          "output_type": "display_data",
          "data": {
            "application/vnd.jupyter.widget-view+json": {
              "model_id": "7bcebef032ef4ba28c011e6ecfa8415e",
              "version_minor": 0,
              "version_major": 2
            },
            "text/plain": [
              "HBox(children=(FloatProgress(value=0.0, description='Downloading', max=898823.0, style=ProgressStyle(descripti…"
            ]
          },
          "metadata": {
            "tags": []
          }
        },
        {
          "output_type": "stream",
          "text": [
            "\n"
          ],
          "name": "stdout"
        },
        {
          "output_type": "display_data",
          "data": {
            "application/vnd.jupyter.widget-view+json": {
              "model_id": "9827ce417dad4aba80c5b21b861da24e",
              "version_minor": 0,
              "version_major": 2
            },
            "text/plain": [
              "HBox(children=(FloatProgress(value=0.0, description='Downloading', max=456318.0, style=ProgressStyle(descripti…"
            ]
          },
          "metadata": {
            "tags": []
          }
        },
        {
          "output_type": "stream",
          "text": [
            "\n"
          ],
          "name": "stdout"
        },
        {
          "output_type": "display_data",
          "data": {
            "application/vnd.jupyter.widget-view+json": {
              "model_id": "9ab8918b1df041f188d49d63900eacd1",
              "version_minor": 0,
              "version_major": 2
            },
            "text/plain": [
              "HBox(children=(FloatProgress(value=0.0, description='Downloading', max=1355863.0, style=ProgressStyle(descript…"
            ]
          },
          "metadata": {
            "tags": []
          }
        },
        {
          "output_type": "stream",
          "text": [
            "\n"
          ],
          "name": "stdout"
        }
      ]
    },
    {
      "cell_type": "markdown",
      "metadata": {
        "id": "_AartzMArRD1"
      },
      "source": [
        "### Tokenize with BART tokenizer, max length = 1024"
      ]
    },
    {
      "cell_type": "code",
      "metadata": {
        "id": "SPXRf2b6mxka"
      },
      "source": [
        "# load the test dataset, tokenize the articles\n",
        "test_df = pd.read_csv('/content/drive/MyDrive/NLP Summarization Project/Data/Cleaned Test Data.csv')\n",
        "test_source = test_df['article'].tolist()\n",
        "\n",
        "articles_tokenized = tokenizer(test_source, max_length= None, truncation='only_first', padding='max_length',return_tensors='pt')\n",
        "input_array = articles_tokenized['input_ids'].numpy()"
      ],
      "execution_count": 9,
      "outputs": []
    },
    {
      "cell_type": "code",
      "metadata": {
        "id": "b0rrx8VGFvwU"
      },
      "source": [
        "# find the starting position of padding tokens\n",
        "padding_start = np.argmax(input_array == tokenizer.pad_token_id, axis = 1)\n",
        "\n",
        "# if the starting position is 0, it means the article was truncated to the max length\n",
        "# and there is no padding token, so set the starting position to 1024\n",
        "padding_start = np.where(padding_start==0, 1024, padding_start)\n",
        "\n",
        "print('token shape', input_array.shape)\n",
        "print('padding token id', tokenizer.pad_token_id)\n",
        "print('min padding location', padding_start.min())"
      ],
      "execution_count": null,
      "outputs": []
    },
    {
      "cell_type": "code",
      "metadata": {
        "colab": {
          "base_uri": "https://localhost:8080/",
          "height": 265
        },
        "id": "PBI_cOWOlOtl",
        "outputId": "13bfe3cc-7f2b-4981-9ea1-f28ab66ccb18"
      },
      "source": [
        "plt.hist(padding_start) \n",
        "plt.show()"
      ],
      "execution_count": 11,
      "outputs": [
        {
          "output_type": "display_data",
          "data": {
            "image/png": "[encoded data removed]",
            "text/plain": [
              "<Figure size 432x288 with 1 Axes>"
            ]
          },
          "metadata": {
            "tags": [],
            "needs_background": "light"
          }
        }
      ]
    },
    {
      "cell_type": "markdown",
      "metadata": {
        "id": "jcOxEwx6mH86"
      },
      "source": [
        "### Forward truncation, 50% non-padding tokens remain, max length = 512"
      ]
    },
    {
      "cell_type": "code",
      "metadata": {
        "id": "LUqUMtndY6Ti"
      },
      "source": [
        "# reduce padding indices to half, modify input array and truncate\n",
        "padding_start_512 = padding_start.copy()\n",
        "padding_start_512 = (padding_start_512/2).round().astype(int)\n",
        "\n",
        "input_array_512 = input_array.copy()\n",
        "\n",
        "for row, start_col in enumerate(padding_start_512):\n",
        "  if start_col < 512:\n",
        "      input_array_512[row,start_col:] = tokenizer.pad_token_id\n",
        "\n",
        "input_array_512 = input_array_512[:, :512]"
      ],
      "execution_count": null,
      "outputs": []
    },
    {
      "cell_type": "markdown",
      "metadata": {
        "id": "O6eLKwJmmR1x"
      },
      "source": [
        "### Forward truncation, 25% non-padding tokens remain, max length = 256\n"
      ]
    },
    {
      "cell_type": "code",
      "metadata": {
        "id": "2EpriuxQJ8mU"
      },
      "source": [
        "# reduce padding indices to quarter, modify input array and truncate\n",
        "padding_start_256 = padding_start.copy()\n",
        "padding_start_256 = (padding_start_256/4).round().astype(int)\n",
        "\n",
        "input_array_256 = input_array.copy()\n",
        "\n",
        "for row, start_col in enumerate(padding_start_256):\n",
        "  if start_col < 256:\n",
        "      input_array_256[row,start_col:] = tokenizer.pad_token_id\n",
        "\n",
        "input_array_256 = input_array_256[:, :256]"
      ],
      "execution_count": null,
      "outputs": []
    },
    {
      "cell_type": "markdown",
      "metadata": {
        "id": "iWFiBp5kmWkZ"
      },
      "source": [
        "### Forward truncation, 12.5% non-padding tokens remain, max length = 128"
      ]
    },
    {
      "cell_type": "code",
      "metadata": {
        "id": "bM6t9v9mKlzy"
      },
      "source": [
        "# reduce padding indices to eighth, modify input array and truncate\n",
        "padding_start_128 = padding_start.copy()\n",
        "padding_start_128 = (padding_start_128/8).round().astype(int)\n",
        "\n",
        "input_array_128 = input_array.copy()\n",
        "\n",
        "for row, start_col in enumerate(padding_start_128):\n",
        "  if start_col < 128:\n",
        "      input_array_128[row,start_col:] = tokenizer.pad_token_id\n",
        "\n",
        "input_array_128 = input_array_128[:, :128]"
      ],
      "execution_count": null,
      "outputs": []
    },
    {
      "cell_type": "markdown",
      "metadata": {
        "id": "bPjtmMG9motc"
      },
      "source": [
        "### Backward truncation, 87.5% non-padding tokens remain"
      ]
    },
    {
      "cell_type": "code",
      "metadata": {
        "id": "wL_FYfO7peJl"
      },
      "source": [
        "# reduce padding indices to eighth\n",
        "padding_start_eighth = padding_start.copy()\n",
        "padding_start_eighth = (padding_start_eighth/8).round().astype(int)\n",
        "\n",
        "# everything before new padding start position is replaced with padding token\n",
        "# next non-padding token is replaced with the beginning-of-sentence-token\n",
        "input_array_eighth = input_array.copy()\n",
        "\n",
        "for row, start_col in enumerate(padding_start_eighth):\n",
        "    input_array_eighth[row,:start_col] = tokenizer.pad_token_id\n",
        "    input_array_eighth[row, start_col] = tokenizer.bos_token_id"
      ],
      "execution_count": null,
      "outputs": []
    },
    {
      "cell_type": "markdown",
      "metadata": {
        "id": "YjLOutZ7nOy0"
      },
      "source": [
        "### Backward truncation, 75% non-padding tokens remain"
      ]
    },
    {
      "cell_type": "code",
      "metadata": {
        "id": "Lep178pNKn8Z"
      },
      "source": [
        "# reduce padding indices to quarter\n",
        "padding_start_quarter = padding_start.copy()\n",
        "padding_start_quarter = (padding_start_quarter/4).round().astype(int)\n",
        "\n",
        "# everything before new padding start position is replaced with padding token\n",
        "# next non-padding token is replaced with the beginning-of-sentence-token\n",
        "input_array_quarter = input_array.copy()\n",
        "\n",
        "for row, start_col in enumerate(padding_start_quarter):\n",
        "    input_array_quarter[row,:start_col] = tokenizer.pad_token_id\n",
        "    input_array_quarter[row, start_col] = tokenizer.bos_token_id"
      ],
      "execution_count": null,
      "outputs": []
    },
    {
      "cell_type": "markdown",
      "metadata": {
        "id": "iK4J6WzvnrTF"
      },
      "source": [
        "### Backward truncation, 50% non-padding tokens remain"
      ]
    },
    {
      "cell_type": "code",
      "metadata": {
        "id": "-hh26ZkAmVRT"
      },
      "source": [
        "# reduce padding indices to half\n",
        "padding_start_half = padding_start.copy()\n",
        "padding_start_half = (padding_start_half/2).round().astype(int)\n",
        "\n",
        "# everything before new padding start position is replaced with padding token\n",
        "# next non-padding token is replaced with the beginning-of-sentence-token\n",
        "input_array_half = input_array.copy()\n",
        "\n",
        "for row, start_col in enumerate(padding_start_half):\n",
        "    input_array_half[row,:start_col] = tokenizer.pad_token_id\n",
        "    input_array_half[row, start_col] = tokenizer.bos_token_id\n",
        "\n",
        "test_tensor_half = torch.tensor(input_array_half)"
      ],
      "execution_count": null,
      "outputs": []
    },
    {
      "cell_type": "code",
      "metadata": {
        "id": "XXX-7uoBsqpc"
      },
      "source": [
        "# save tensors\n",
        "test_tensor = torch.tensor(input_array)\n",
        "torch.save(test_tensor, '/content/drive/MyDrive/NLP Summarization Project/Data/Test_Articles_BART.pt')\n",
        "\n",
        "test_tensor_512 = torch.tensor(input_array_512)\n",
        "torch.save(test_tensor_512, '/content/drive/MyDrive/NLP Summarization Project/Data/Test_Articles_BART_backward truncation 50 percent remain.pt')\n",
        "\n",
        "test_tensor_256 = torch.tensor(input_array_256)\n",
        "torch.save(test_tensor_256, '/content/drive/MyDrive/NLP Summarization Project/Data/Test_Articles_BART_backward truncation 25 percent remain.pt')\n",
        "\n",
        "test_tensor_128 = torch.tensor(input_array_128)\n",
        "torch.save(test_tensor_128, '/content/drive/MyDrive/NLP Summarization Project/Data/Test_Articles_BART_backward truncation 12.5 percent remain.pt')\n",
        "\n",
        "test_tensor_half = torch.tensor(input_array_half)\n",
        "torch.save(test_tensor_half, '/content/drive/MyDrive/NLP Summarization Project/Data/Test_Articles_BART_forward truncation 50 percent remain.pt')\n",
        "\n",
        "test_tensor_quarter = torch.tensor(input_array_quarter)\n",
        "torch.save(test_tensor_quarter, '/content/drive/MyDrive/NLP Summarization Project/Data/Test_Articles_BART_forward truncation 25 percent remain.pt')\n",
        "\n",
        "test_tensor_eighth = torch.tensor(input_array_eighth)\n",
        "torch.save(test_tensor_eighth, '/content/drive/MyDrive/NLP Summarization Project/Data/Test_Articles_BART_forward truncation 12.5 percent remain.pt')"
      ],
      "execution_count": null,
      "outputs": []
    },
    {
      "cell_type": "code",
      "metadata": {
        "id": "2k6j_jqBZdTL"
      },
      "source": [
        ""
      ],
      "execution_count": null,
      "outputs": []
    }
  ]
}