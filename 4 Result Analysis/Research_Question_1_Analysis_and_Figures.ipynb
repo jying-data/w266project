{
  "nbformat": 4,
  "nbformat_minor": 0,
  "metadata": {
    "colab": {
      "name": "Research Question 1 - Analysis and Figures.ipynb",
      "provenance": [],
      "collapsed_sections": [],
      "toc_visible": true
    },
    "kernelspec": {
      "name": "python3",
      "display_name": "Python 3"
    },
    "language_info": {
      "name": "python"
    }
  },
  "cells": [
    {
      "cell_type": "code",
      "metadata": {
        "id": "7yPwRMx6Ukm0"
      },
      "source": [
        "!pip install py-rouge\n",
        "from google.colab import drive\n",
        "drive.mount('/content/drive')"
      ],
      "execution_count": null,
      "outputs": []
    },
    {
      "cell_type": "markdown",
      "metadata": {
        "id": "ETkDFyo2vQRd"
      },
      "source": [
        "Based on Rouge-L score of summaries generated on various beam size, we chose beam size 2 for BART finetuned on optimized hyperparameters and beam size 5 for PEGASUS. "
      ]
    },
    {
      "cell_type": "code",
      "metadata": {
        "id": "YwYg649lvgHh",
        "colab": {
          "base_uri": "https://localhost:8080/"
        },
        "outputId": "5f2303f2-f030-4d7d-a32c-b0639c3decbb"
      },
      "source": [
        "# load generated test summaries for both BART and PEGASUS\n",
        "\n",
        "import pandas as pd\n",
        "import nltk\n",
        "nltk.download('punkt')\n",
        "from nltk.tokenize import word_tokenize\n",
        "\n",
        "import seaborn as sns\n",
        "import matplotlib.pyplot as plt\n",
        "sns.set(style=\"darkgrid\")\n",
        "\n",
        "bart = pd.read_csv('/content/drive/MyDrive/NLP Summarization Project/Generated Summaries/1f BART_finetuned on optimal hp_beam2.csv')\n",
        "pegasus = pd.read_csv('/content/drive/MyDrive/NLP Summarization Project/Generated Summaries/1b PEGASUS_beam5.csv')\n",
        "\n",
        "bart['model'] = 'BART'\n",
        "pegasus['model'] = 'PEGASUS'\n",
        "\n",
        "df = pd.concat([bart, pegasus])"
      ],
      "execution_count": 2,
      "outputs": [
        {
          "output_type": "stream",
          "text": [
            "[nltk_data] Downloading package punkt to /root/nltk_data...\n",
            "[nltk_data]   Unzipping tokenizers/punkt.zip.\n"
          ],
          "name": "stdout"
        }
      ]
    },
    {
      "cell_type": "markdown",
      "metadata": {
        "id": "idQpPhlTTWxd"
      },
      "source": [
        "## Differences in generated summary length\n",
        "We first examine the distribution of generated summary length for both models. On average, BART generates longer summaries than PEGASUS, though PEGASUS has two separate peaks of lengths, while BART's summaries are clustered around the median of 54 tokens."
      ]
    },
    {
      "cell_type": "code",
      "metadata": {
        "colab": {
          "base_uri": "https://localhost:8080/",
          "height": 175
        },
        "id": "uM6rk-Mol1st",
        "outputId": "d9d7f85e-5b73-44e9-efbd-da67eb8665b8"
      },
      "source": [
        "# use tokenizer to tokenize the generated summaries and look at the distributions\n",
        "\n",
        "df['generated_summary_length'] = df['generated'].apply(lambda x: len(word_tokenize(x)))\n",
        "df.groupby('model').describe()[['generated_summary_length']]"
      ],
      "execution_count": 3,
      "outputs": [
        {
          "output_type": "execute_result",
          "data": {
            "text/html": [
              "<div>\n",
              "<style scoped>\n",
              "    .dataframe tbody tr th:only-of-type {\n",
              "        vertical-align: middle;\n",
              "    }\n",
              "\n",
              "    .dataframe tbody tr th {\n",
              "        vertical-align: top;\n",
              "    }\n",
              "\n",
              "    .dataframe thead tr th {\n",
              "        text-align: left;\n",
              "    }\n",
              "\n",
              "    .dataframe thead tr:last-of-type th {\n",
              "        text-align: right;\n",
              "    }\n",
              "</style>\n",
              "<table border=\"1\" class=\"dataframe\">\n",
              "  <thead>\n",
              "    <tr>\n",
              "      <th></th>\n",
              "      <th colspan=\"8\" halign=\"left\">generated_summary_length</th>\n",
              "    </tr>\n",
              "    <tr>\n",
              "      <th></th>\n",
              "      <th>count</th>\n",
              "      <th>mean</th>\n",
              "      <th>std</th>\n",
              "      <th>min</th>\n",
              "      <th>25%</th>\n",
              "      <th>50%</th>\n",
              "      <th>75%</th>\n",
              "      <th>max</th>\n",
              "    </tr>\n",
              "    <tr>\n",
              "      <th>model</th>\n",
              "      <th></th>\n",
              "      <th></th>\n",
              "      <th></th>\n",
              "      <th></th>\n",
              "      <th></th>\n",
              "      <th></th>\n",
              "      <th></th>\n",
              "      <th></th>\n",
              "    </tr>\n",
              "  </thead>\n",
              "  <tbody>\n",
              "    <tr>\n",
              "      <th>BART</th>\n",
              "      <td>92750.0</td>\n",
              "      <td>55.113747</td>\n",
              "      <td>8.113873</td>\n",
              "      <td>25.0</td>\n",
              "      <td>50.0</td>\n",
              "      <td>54.0</td>\n",
              "      <td>59.0</td>\n",
              "      <td>140.0</td>\n",
              "    </tr>\n",
              "    <tr>\n",
              "      <th>PEGASUS</th>\n",
              "      <td>92750.0</td>\n",
              "      <td>67.204377</td>\n",
              "      <td>47.837925</td>\n",
              "      <td>5.0</td>\n",
              "      <td>32.0</td>\n",
              "      <td>41.0</td>\n",
              "      <td>126.0</td>\n",
              "      <td>428.0</td>\n",
              "    </tr>\n",
              "  </tbody>\n",
              "</table>\n",
              "</div>"
            ],
            "text/plain": [
              "        generated_summary_length                        ...                    \n",
              "                           count       mean        std  ...   50%    75%    max\n",
              "model                                                   ...                    \n",
              "BART                     92750.0  55.113747   8.113873  ...  54.0   59.0  140.0\n",
              "PEGASUS                  92750.0  67.204377  47.837925  ...  41.0  126.0  428.0\n",
              "\n",
              "[2 rows x 8 columns]"
            ]
          },
          "metadata": {
            "tags": []
          },
          "execution_count": 3
        }
      ]
    },
    {
      "cell_type": "code",
      "metadata": {
        "colab": {
          "base_uri": "https://localhost:8080/",
          "height": 230
        },
        "id": "eRQmp9limmFr",
        "outputId": "a9c40d3e-5359-45c8-b106-1856e2ee1d4f"
      },
      "source": [
        "# histogram of summary length color coded by model\n",
        "\n",
        "f, ax = plt.subplots(figsize=(7, 3))\n",
        "\n",
        "sns.histplot(df, x=\"generated_summary_length\", hue=\"model\", binwidth = 2, ax = ax)\n",
        "\n",
        "ax.set(xlim = (0, 200), xlabel = \"Generated Summary Length in Tokens\")\n",
        "plt.show()"
      ],
      "execution_count": 4,
      "outputs": [
        {
          "output_type": "display_data",
          "data": {
            "image/png": "[encoded data removed]",
            "text/plain": [
              "<Figure size 504x216 with 1 Axes>"
            ]
          },
          "metadata": {
            "tags": []
          }
        }
      ]
    },
    {
      "cell_type": "markdown",
      "metadata": {
        "id": "uGWvDV-nVAiC"
      },
      "source": [
        "## Difference in summary quality\n",
        "\n",
        "Next, we want to see how much the models rely on the earlier sections of the input article when generating summaries. The first 100 words (roughly split based on spaces) of the article is used as reference to evaluate ROUGE-1 and ROUGE-2 scores of the generated summaries. Conceptually, if the ROUGE score is high, then the summary is mainly gathered from the beginning of the article.\n",
        "\n",
        "The resulting histogram shows PEGASUS having an obvious peak of ROUGE-2 score of 1. Subdividing PEGASUS summaries based on length shows that long summaries accounts for all summaries with ROUGE-2 score, implying that these generated summaries are essentially copying the entire beginning section of the article."
      ]
    },
    {
      "cell_type": "code",
      "metadata": {
        "id": "683YNXhKyQL-"
      },
      "source": [
        "import rouge\n",
        "\n",
        "evaluator = rouge.Rouge(metrics=['rouge-n'],\n",
        "                           max_n=2,\n",
        "                           limit_length=True,\n",
        "                           length_limit=150,\n",
        "                           length_limit_type='words',\n",
        "                           apply_avg=False,\n",
        "                           apply_best=False,\n",
        "                           alpha=0.5, # Default F1_score\n",
        "                           weight_factor=1.2,\n",
        "                           stemming=True)\n",
        "\n",
        "hypothesis = df['generated'].tolist()\n",
        "\n",
        "# the reference is roughly the first 100 words of the article\n",
        "reference = df['article'].apply(lambda x: ' '.join(x.split()[:100])).tolist()\n",
        "\n",
        "scores = evaluator.get_scores(hypothesis, reference)\n",
        "\n",
        "df['rouge2r_of_article'] = [x['r'][0] for x in scores['rouge-2']]"
      ],
      "execution_count": 5,
      "outputs": []
    },
    {
      "cell_type": "code",
      "metadata": {
        "colab": {
          "base_uri": "https://localhost:8080/",
          "height": 230
        },
        "id": "LatqxrX9y7co",
        "outputId": "3a9481b3-d88c-45aa-a75a-8d8cc6cd39af"
      },
      "source": [
        "# histogram of PEGASUS and BART summary ROUGE-2 Recall using the first 100 words of the article as reference\n",
        "f, ax = plt.subplots(figsize=(7, 3))\n",
        "\n",
        "sns.kdeplot( data = df, x = 'rouge2r_of_article', hue = 'model', fill = True, common_norm=False, clip = (0,1), ax = ax)\n",
        "\n",
        "ax.set(xlabel = \"Coverage of article's first 100 words in generated summary\")\n",
        "\n",
        "plt.show()"
      ],
      "execution_count": 19,
      "outputs": [
        {
          "output_type": "display_data",
          "data": {
            "image/png": "[encoded data removed]",
            "text/plain": [
              "<Figure size 504x216 with 1 Axes>"
            ]
          },
          "metadata": {
            "tags": []
          }
        }
      ]
    },
    {
      "cell_type": "code",
      "metadata": {
        "colab": {
          "base_uri": "https://localhost:8080/",
          "height": 230
        },
        "id": "QBaKY1yxX4Ay",
        "outputId": "1741668d-241c-430c-fcdd-150a230112c1"
      },
      "source": [
        "# isolate PEGASUS records only, create a new column indicating whether the summary length belongs to the first or the second peak seen in histogram\n",
        "pegasus = df[df['model'] == 'PEGASUS'].copy()\n",
        "pegasus['Summary Length'] = (pegasus['generated_summary_length'] < 100).replace({True: 'Shorter than 100 tokens', False: '100 tokens or Longers'})\n",
        "\n",
        "# plot histogram of rouge score color coded by whether the pegasus summary is in the first or second peak\n",
        "f, ax = plt.subplots(figsize=(7, 3))\n",
        "\n",
        "sns.kdeplot( data = pegasus, x = 'rouge2r_of_article', hue = 'Summary Length', fill = True, common_norm=False, clip = (0,1), ax = ax)\n",
        "\n",
        "ax.set(xlabel = \"Coverage of article's first 100 words within generated summary\")\n",
        "\n",
        "plt.show()"
      ],
      "execution_count": 33,
      "outputs": [
        {
          "output_type": "display_data",
          "data": {
            "image/png": "[encoded data removed]",
            "text/plain": [
              "<Figure size 504x216 with 1 Axes>"
            ]
          },
          "metadata": {
            "tags": []
          }
        }
      ]
    },
    {
      "cell_type": "code",
      "metadata": {
        "colab": {
          "base_uri": "https://localhost:8080/",
          "height": 583
        },
        "id": "pbbZdidl8WyW",
        "outputId": "a5345f0a-d861-43e0-ed65-007abcdcdf2e"
      },
      "source": [
        "# descriptive stats of ROUGE-score PEGASUS summaries referencing the article, grouped by summary length\n",
        "pegasus.groupby('Summary Length').describe().stack()[['rouge1f', 'rouge2f', 'rougeLf', 'rouge1r', 'rouge2r', 'rougeLr']]"
      ],
      "execution_count": null,
      "outputs": [
        {
          "output_type": "execute_result",
          "data": {
            "text/html": [
              "<div>\n",
              "<style scoped>\n",
              "    .dataframe tbody tr th:only-of-type {\n",
              "        vertical-align: middle;\n",
              "    }\n",
              "\n",
              "    .dataframe tbody tr th {\n",
              "        vertical-align: top;\n",
              "    }\n",
              "\n",
              "    .dataframe thead th {\n",
              "        text-align: right;\n",
              "    }\n",
              "</style>\n",
              "<table border=\"1\" class=\"dataframe\">\n",
              "  <thead>\n",
              "    <tr style=\"text-align: right;\">\n",
              "      <th></th>\n",
              "      <th></th>\n",
              "      <th>rouge1f</th>\n",
              "      <th>rouge2f</th>\n",
              "      <th>rougeLf</th>\n",
              "      <th>rouge1r</th>\n",
              "      <th>rouge2r</th>\n",
              "      <th>rougeLr</th>\n",
              "    </tr>\n",
              "    <tr>\n",
              "      <th>Summary Length</th>\n",
              "      <th></th>\n",
              "      <th></th>\n",
              "      <th></th>\n",
              "      <th></th>\n",
              "      <th></th>\n",
              "      <th></th>\n",
              "      <th></th>\n",
              "    </tr>\n",
              "  </thead>\n",
              "  <tbody>\n",
              "    <tr>\n",
              "      <th rowspan=\"8\" valign=\"top\">100 tokens or Longers</th>\n",
              "      <th>count</th>\n",
              "      <td>26077.000000</td>\n",
              "      <td>26077.000000</td>\n",
              "      <td>26077.000000</td>\n",
              "      <td>26077.000000</td>\n",
              "      <td>26077.000000</td>\n",
              "      <td>26077.000000</td>\n",
              "    </tr>\n",
              "    <tr>\n",
              "      <th>mean</th>\n",
              "      <td>0.170199</td>\n",
              "      <td>0.084922</td>\n",
              "      <td>0.193039</td>\n",
              "      <td>0.660161</td>\n",
              "      <td>0.336375</td>\n",
              "      <td>0.582502</td>\n",
              "    </tr>\n",
              "    <tr>\n",
              "      <th>std</th>\n",
              "      <td>0.085833</td>\n",
              "      <td>0.088898</td>\n",
              "      <td>0.094985</td>\n",
              "      <td>0.235370</td>\n",
              "      <td>0.316919</td>\n",
              "      <td>0.236126</td>\n",
              "    </tr>\n",
              "    <tr>\n",
              "      <th>min</th>\n",
              "      <td>0.000000</td>\n",
              "      <td>0.000000</td>\n",
              "      <td>0.000000</td>\n",
              "      <td>0.000000</td>\n",
              "      <td>0.000000</td>\n",
              "      <td>0.000000</td>\n",
              "    </tr>\n",
              "    <tr>\n",
              "      <th>25%</th>\n",
              "      <td>0.104348</td>\n",
              "      <td>0.015152</td>\n",
              "      <td>0.123061</td>\n",
              "      <td>0.478261</td>\n",
              "      <td>0.076923</td>\n",
              "      <td>0.400312</td>\n",
              "    </tr>\n",
              "    <tr>\n",
              "      <th>50%</th>\n",
              "      <td>0.157143</td>\n",
              "      <td>0.051948</td>\n",
              "      <td>0.170711</td>\n",
              "      <td>0.666667</td>\n",
              "      <td>0.222222</td>\n",
              "      <td>0.536505</td>\n",
              "    </tr>\n",
              "    <tr>\n",
              "      <th>75%</th>\n",
              "      <td>0.229730</td>\n",
              "      <td>0.129496</td>\n",
              "      <td>0.248721</td>\n",
              "      <td>0.866667</td>\n",
              "      <td>0.545455</td>\n",
              "      <td>0.762475</td>\n",
              "    </tr>\n",
              "    <tr>\n",
              "      <th>max</th>\n",
              "      <td>0.937008</td>\n",
              "      <td>0.920635</td>\n",
              "      <td>0.947228</td>\n",
              "      <td>1.000000</td>\n",
              "      <td>1.000000</td>\n",
              "      <td>1.000000</td>\n",
              "    </tr>\n",
              "    <tr>\n",
              "      <th rowspan=\"8\" valign=\"top\">Shorter than 100 tokens</th>\n",
              "      <th>count</th>\n",
              "      <td>66673.000000</td>\n",
              "      <td>66673.000000</td>\n",
              "      <td>66673.000000</td>\n",
              "      <td>66673.000000</td>\n",
              "      <td>66673.000000</td>\n",
              "      <td>66673.000000</td>\n",
              "    </tr>\n",
              "    <tr>\n",
              "      <th>mean</th>\n",
              "      <td>0.347683</td>\n",
              "      <td>0.192140</td>\n",
              "      <td>0.347354</td>\n",
              "      <td>0.476129</td>\n",
              "      <td>0.264209</td>\n",
              "      <td>0.451142</td>\n",
              "    </tr>\n",
              "    <tr>\n",
              "      <th>std</th>\n",
              "      <td>0.212764</td>\n",
              "      <td>0.226328</td>\n",
              "      <td>0.215450</td>\n",
              "      <td>0.270235</td>\n",
              "      <td>0.303702</td>\n",
              "      <td>0.266152</td>\n",
              "    </tr>\n",
              "    <tr>\n",
              "      <th>min</th>\n",
              "      <td>0.000000</td>\n",
              "      <td>0.000000</td>\n",
              "      <td>0.000000</td>\n",
              "      <td>0.000000</td>\n",
              "      <td>0.000000</td>\n",
              "      <td>0.000000</td>\n",
              "    </tr>\n",
              "    <tr>\n",
              "      <th>25%</th>\n",
              "      <td>0.185185</td>\n",
              "      <td>0.027027</td>\n",
              "      <td>0.185740</td>\n",
              "      <td>0.266667</td>\n",
              "      <td>0.034483</td>\n",
              "      <td>0.246671</td>\n",
              "    </tr>\n",
              "    <tr>\n",
              "      <th>50%</th>\n",
              "      <td>0.300000</td>\n",
              "      <td>0.097561</td>\n",
              "      <td>0.282759</td>\n",
              "      <td>0.413793</td>\n",
              "      <td>0.137931</td>\n",
              "      <td>0.371087</td>\n",
              "    </tr>\n",
              "    <tr>\n",
              "      <th>75%</th>\n",
              "      <td>0.476190</td>\n",
              "      <td>0.289474</td>\n",
              "      <td>0.468764</td>\n",
              "      <td>0.666667</td>\n",
              "      <td>0.400000</td>\n",
              "      <td>0.612735</td>\n",
              "    </tr>\n",
              "    <tr>\n",
              "      <th>max</th>\n",
              "      <td>1.000000</td>\n",
              "      <td>1.000000</td>\n",
              "      <td>1.000000</td>\n",
              "      <td>1.000000</td>\n",
              "      <td>1.000000</td>\n",
              "      <td>1.000000</td>\n",
              "    </tr>\n",
              "  </tbody>\n",
              "</table>\n",
              "</div>"
            ],
            "text/plain": [
              "                                    rouge1f  ...       rougeLr\n",
              "Summary Length                               ...              \n",
              "100 tokens or Longers   count  26077.000000  ...  26077.000000\n",
              "                        mean       0.170199  ...      0.582502\n",
              "                        std        0.085833  ...      0.236126\n",
              "                        min        0.000000  ...      0.000000\n",
              "                        25%        0.104348  ...      0.400312\n",
              "                        50%        0.157143  ...      0.536505\n",
              "                        75%        0.229730  ...      0.762475\n",
              "                        max        0.937008  ...      1.000000\n",
              "Shorter than 100 tokens count  66673.000000  ...  66673.000000\n",
              "                        mean       0.347683  ...      0.451142\n",
              "                        std        0.212764  ...      0.266152\n",
              "                        min        0.000000  ...      0.000000\n",
              "                        25%        0.185185  ...      0.246671\n",
              "                        50%        0.300000  ...      0.371087\n",
              "                        75%        0.476190  ...      0.612735\n",
              "                        max        1.000000  ...      1.000000\n",
              "\n",
              "[16 rows x 6 columns]"
            ]
          },
          "metadata": {
            "tags": []
          },
          "execution_count": 43
        }
      ]
    },
    {
      "cell_type": "markdown",
      "metadata": {
        "id": "_0yETEAJaMS5"
      },
      "source": [
        "Dividing BART summaries at the median length shows much smaller difference in how much the two groups of summaries quote the beginning portion of the articles. The longer summaries have slightly higher ROUGE-2 recall so those quote the beginning of the articles a bit more."
      ]
    },
    {
      "cell_type": "code",
      "metadata": {
        "colab": {
          "base_uri": "https://localhost:8080/",
          "height": 230
        },
        "id": "d9KmhK9dalff",
        "outputId": "96daa95e-6015-4c74-9d3e-0787b92c0be5"
      },
      "source": [
        "# 54 is the median length for BART length\n",
        "bart = df[df['model'] == 'BART'].copy()\n",
        "bart['Summary Length'] = (bart['generated_summary_length'] < 54).replace({True: 'Shorter than 54 tokens', False: '54 tokens or Longers'})\n",
        "\n",
        "f, ax = plt.subplots(figsize=(7, 3))\n",
        "\n",
        "sns.kdeplot( data = bart, x = 'rouge2r_of_article', hue = 'Summary Length', fill = True, common_norm=False, clip = (0,1), ax = ax)\n",
        "\n",
        "ax.set(xlabel = \"Coverage of article's first 100 words within generated summary\")\n",
        "\n",
        "plt.show()"
      ],
      "execution_count": 34,
      "outputs": [
        {
          "output_type": "display_data",
          "data": {
            "image/png": "[encoded data removed]",
            "text/plain": [
              "<Figure size 504x216 with 1 Axes>"
            ]
          },
          "metadata": {
            "tags": []
          }
        }
      ]
    },
    {
      "cell_type": "code",
      "metadata": {
        "colab": {
          "base_uri": "https://localhost:8080/",
          "height": 576
        },
        "id": "6QmTgeOR8zox",
        "outputId": "6b7e2a18-9aab-4ecc-f805-77bd23f64b4c"
      },
      "source": [
        "# descriptive stats of ROUGE-score BART summaries referencing the article, grouped by summary length\n",
        "\n",
        "bart.groupby('Summary Length').describe().stack()[['rouge1f', 'rouge2f', 'rougeLf', 'rouge1r', 'rouge2r', 'rougeLr']]"
      ],
      "execution_count": null,
      "outputs": [
        {
          "output_type": "execute_result",
          "data": {
            "text/html": [
              "<div>\n",
              "<style scoped>\n",
              "    .dataframe tbody tr th:only-of-type {\n",
              "        vertical-align: middle;\n",
              "    }\n",
              "\n",
              "    .dataframe tbody tr th {\n",
              "        vertical-align: top;\n",
              "    }\n",
              "\n",
              "    .dataframe thead th {\n",
              "        text-align: right;\n",
              "    }\n",
              "</style>\n",
              "<table border=\"1\" class=\"dataframe\">\n",
              "  <thead>\n",
              "    <tr style=\"text-align: right;\">\n",
              "      <th></th>\n",
              "      <th></th>\n",
              "      <th>rouge1f</th>\n",
              "      <th>rouge2f</th>\n",
              "      <th>rougeLf</th>\n",
              "      <th>rouge1r</th>\n",
              "      <th>rouge2r</th>\n",
              "      <th>rougeLr</th>\n",
              "    </tr>\n",
              "    <tr>\n",
              "      <th>Summary Length</th>\n",
              "      <th></th>\n",
              "      <th></th>\n",
              "      <th></th>\n",
              "      <th></th>\n",
              "      <th></th>\n",
              "      <th></th>\n",
              "      <th></th>\n",
              "    </tr>\n",
              "  </thead>\n",
              "  <tbody>\n",
              "    <tr>\n",
              "      <th rowspan=\"8\" valign=\"top\">54 tokens or Longers</th>\n",
              "      <th>count</th>\n",
              "      <td>48520.000000</td>\n",
              "      <td>48520.000000</td>\n",
              "      <td>48520.000000</td>\n",
              "      <td>48520.000000</td>\n",
              "      <td>48520.000000</td>\n",
              "      <td>48520.000000</td>\n",
              "    </tr>\n",
              "    <tr>\n",
              "      <th>mean</th>\n",
              "      <td>0.275103</td>\n",
              "      <td>0.132905</td>\n",
              "      <td>0.276950</td>\n",
              "      <td>0.526915</td>\n",
              "      <td>0.257036</td>\n",
              "      <td>0.473694</td>\n",
              "    </tr>\n",
              "    <tr>\n",
              "      <th>std</th>\n",
              "      <td>0.147523</td>\n",
              "      <td>0.155159</td>\n",
              "      <td>0.152112</td>\n",
              "      <td>0.246774</td>\n",
              "      <td>0.288129</td>\n",
              "      <td>0.240448</td>\n",
              "    </tr>\n",
              "    <tr>\n",
              "      <th>min</th>\n",
              "      <td>0.000000</td>\n",
              "      <td>0.000000</td>\n",
              "      <td>0.000000</td>\n",
              "      <td>0.000000</td>\n",
              "      <td>0.000000</td>\n",
              "      <td>0.000000</td>\n",
              "    </tr>\n",
              "    <tr>\n",
              "      <th>25%</th>\n",
              "      <td>0.162791</td>\n",
              "      <td>0.025316</td>\n",
              "      <td>0.167325</td>\n",
              "      <td>0.333333</td>\n",
              "      <td>0.041667</td>\n",
              "      <td>0.294656</td>\n",
              "    </tr>\n",
              "    <tr>\n",
              "      <th>50%</th>\n",
              "      <td>0.250000</td>\n",
              "      <td>0.070175</td>\n",
              "      <td>0.235162</td>\n",
              "      <td>0.482759</td>\n",
              "      <td>0.142857</td>\n",
              "      <td>0.400312</td>\n",
              "    </tr>\n",
              "    <tr>\n",
              "      <th>75%</th>\n",
              "      <td>0.366197</td>\n",
              "      <td>0.190476</td>\n",
              "      <td>0.351549</td>\n",
              "      <td>0.700000</td>\n",
              "      <td>0.375000</td>\n",
              "      <td>0.612735</td>\n",
              "    </tr>\n",
              "    <tr>\n",
              "      <th>max</th>\n",
              "      <td>1.000000</td>\n",
              "      <td>1.000000</td>\n",
              "      <td>1.000000</td>\n",
              "      <td>1.000000</td>\n",
              "      <td>1.000000</td>\n",
              "      <td>1.000000</td>\n",
              "    </tr>\n",
              "    <tr>\n",
              "      <th rowspan=\"8\" valign=\"top\">Shorter than 54 tokens</th>\n",
              "      <th>count</th>\n",
              "      <td>44230.000000</td>\n",
              "      <td>44230.000000</td>\n",
              "      <td>44230.000000</td>\n",
              "      <td>44230.000000</td>\n",
              "      <td>44230.000000</td>\n",
              "      <td>44230.000000</td>\n",
              "    </tr>\n",
              "    <tr>\n",
              "      <th>mean</th>\n",
              "      <td>0.306870</td>\n",
              "      <td>0.155885</td>\n",
              "      <td>0.305985</td>\n",
              "      <td>0.505413</td>\n",
              "      <td>0.257382</td>\n",
              "      <td>0.462048</td>\n",
              "    </tr>\n",
              "    <tr>\n",
              "      <th>std</th>\n",
              "      <td>0.169182</td>\n",
              "      <td>0.181013</td>\n",
              "      <td>0.174370</td>\n",
              "      <td>0.250990</td>\n",
              "      <td>0.287595</td>\n",
              "      <td>0.245743</td>\n",
              "    </tr>\n",
              "    <tr>\n",
              "      <th>min</th>\n",
              "      <td>0.000000</td>\n",
              "      <td>0.000000</td>\n",
              "      <td>0.000000</td>\n",
              "      <td>0.000000</td>\n",
              "      <td>0.000000</td>\n",
              "      <td>0.000000</td>\n",
              "    </tr>\n",
              "    <tr>\n",
              "      <th>25%</th>\n",
              "      <td>0.179104</td>\n",
              "      <td>0.029412</td>\n",
              "      <td>0.179091</td>\n",
              "      <td>0.312500</td>\n",
              "      <td>0.041667</td>\n",
              "      <td>0.277009</td>\n",
              "    </tr>\n",
              "    <tr>\n",
              "      <th>50%</th>\n",
              "      <td>0.273973</td>\n",
              "      <td>0.084507</td>\n",
              "      <td>0.256593</td>\n",
              "      <td>0.454545</td>\n",
              "      <td>0.142857</td>\n",
              "      <td>0.400312</td>\n",
              "    </tr>\n",
              "    <tr>\n",
              "      <th>75%</th>\n",
              "      <td>0.407407</td>\n",
              "      <td>0.222222</td>\n",
              "      <td>0.391783</td>\n",
              "      <td>0.678571</td>\n",
              "      <td>0.380952</td>\n",
              "      <td>0.603437</td>\n",
              "    </tr>\n",
              "    <tr>\n",
              "      <th>max</th>\n",
              "      <td>1.000000</td>\n",
              "      <td>1.000000</td>\n",
              "      <td>1.000000</td>\n",
              "      <td>1.000000</td>\n",
              "      <td>1.000000</td>\n",
              "      <td>1.000000</td>\n",
              "    </tr>\n",
              "  </tbody>\n",
              "</table>\n",
              "</div>"
            ],
            "text/plain": [
              "                                   rouge1f  ...       rougeLr\n",
              "Summary Length                              ...              \n",
              "54 tokens or Longers   count  48520.000000  ...  48520.000000\n",
              "                       mean       0.275103  ...      0.473694\n",
              "                       std        0.147523  ...      0.240448\n",
              "                       min        0.000000  ...      0.000000\n",
              "                       25%        0.162791  ...      0.294656\n",
              "                       50%        0.250000  ...      0.400312\n",
              "                       75%        0.366197  ...      0.612735\n",
              "                       max        1.000000  ...      1.000000\n",
              "Shorter than 54 tokens count  44230.000000  ...  44230.000000\n",
              "                       mean       0.306870  ...      0.462048\n",
              "                       std        0.169182  ...      0.245743\n",
              "                       min        0.000000  ...      0.000000\n",
              "                       25%        0.179104  ...      0.277009\n",
              "                       50%        0.273973  ...      0.400312\n",
              "                       75%        0.407407  ...      0.603437\n",
              "                       max        1.000000  ...      1.000000\n",
              "\n",
              "[16 rows x 6 columns]"
            ]
          },
          "metadata": {
            "tags": []
          },
          "execution_count": 15
        }
      ]
    },
    {
      "cell_type": "code",
      "metadata": {
        "id": "E_6RMvjH2EXV"
      },
      "source": [
        ""
      ],
      "execution_count": null,
      "outputs": []
    }
  ]
}