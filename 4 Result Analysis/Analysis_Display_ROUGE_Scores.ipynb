{
  "nbformat": 4,
  "nbformat_minor": 0,
  "metadata": {
    "colab": {
      "name": "Analysis - Display ROUGE Scores.ipynb",
      "provenance": [],
      "collapsed_sections": []
    },
    "kernelspec": {
      "name": "python3",
      "display_name": "Python 3"
    },
    "language_info": {
      "name": "python"
    }
  },
  "cells": [
    {
      "cell_type": "markdown",
      "metadata": {
        "id": "xggssKoHbvPK"
      },
      "source": [
        "### This script simply reading the generated summaries from all 4 beam sizes and display the mean Recall, F1, Precision of Rouge-1, Rouge-2 and Rouge-L scores as pandas dataframe."
      ]
    },
    {
      "cell_type": "code",
      "metadata": {
        "id": "7yPwRMx6Ukm0",
        "colab": {
          "base_uri": "https://localhost:8080/"
        },
        "outputId": "dbabc6b8-078a-4ce2-aeef-55b394c57afb"
      },
      "source": [
        "from google.colab import drive\n",
        "drive.mount('/content/drive')"
      ],
      "execution_count": 1,
      "outputs": [
        {
          "output_type": "stream",
          "text": [
            "Mounted at /content/drive\n"
          ],
          "name": "stdout"
        }
      ]
    },
    {
      "cell_type": "code",
      "metadata": {
        "id": "76-0F2llu3vS"
      },
      "source": [
        "import pandas as pd\n",
        "\n",
        "beam2 = pd.read_csv('/content/drive/MyDrive/3 Generated Summaries/1f BART_finetuned on optimal hp/1f BART_finetuned on optimal hp_beam2.csv')\n",
        "beam3 = pd.read_csv('/content/drive/MyDrive/3 Generated Summaries/1f BART_finetuned on optimal hp/1f BART_finetuned on optimal hp_beam3.csv')\n",
        "beam4 = pd.read_csv('/content/drive/MyDrive/3 Generated Summaries/1f BART_finetuned on optimal hp/1f BART_finetuned on optimal hp_beam4.csv')\n",
        "beam5 = pd.read_csv('/content/drive/MyDrive/3 Generated Summaries/1f BART_finetuned on optimal hp/1f BART_finetuned on optimal hp_beam5.csv')"
      ],
      "execution_count": 2,
      "outputs": []
    },
    {
      "cell_type": "code",
      "metadata": {
        "id": "lyC5EWHmvbTT"
      },
      "source": [
        "F = pd.DataFrame(columns = ['beam_number', 'rouge1f', 'rouge2f', 'rougeLf'])\n",
        "R = pd.DataFrame(columns = ['beam_number', 'rouge1r', 'rouge2r', 'rougeLr'])\n",
        "P = pd.DataFrame(columns = ['beam_number', 'rouge1p', 'rouge2p', 'rougeLp'])\n",
        "\n",
        "for beam_size, df in zip([2, 3, 4, 5], [beam2, beam3, beam4, beam5]):\n",
        "    #### F ####\n",
        "    f_mean = pd.DataFrame(df[['rouge1f', 'rouge2f', 'rougeLf']].mean()).T\n",
        "    f_mean['beam_number'] = beam_size\n",
        "    F = pd.concat([F, f_mean], sort = False)\n",
        "\n",
        "    #### R ####\n",
        "    r_mean = pd.DataFrame(df[['rouge1r', 'rouge2r', 'rougeLr']].mean()).T\n",
        "    r_mean['beam_number'] = beam_size  \n",
        "    R = pd.concat([R, r_mean], sort = False)\n",
        "\n",
        "    #### P ####\n",
        "    p_mean = pd.DataFrame(df[['rouge1p', 'rouge2p', 'rougeLp']].mean()).T\n",
        "    p_mean['beam_number'] = beam_size    \n",
        "    P = pd.concat([P, p_mean], sort = False)"
      ],
      "execution_count": 3,
      "outputs": []
    },
    {
      "cell_type": "code",
      "metadata": {
        "colab": {
          "base_uri": "https://localhost:8080/",
          "height": 173
        },
        "id": "snFS4hwsxYbI",
        "outputId": "075fc90d-07e1-4f05-e54e-791881d75d87"
      },
      "source": [
        "R"
      ],
      "execution_count": 4,
      "outputs": [
        {
          "output_type": "execute_result",
          "data": {
            "text/html": [
              "<div>\n",
              "<style scoped>\n",
              "    .dataframe tbody tr th:only-of-type {\n",
              "        vertical-align: middle;\n",
              "    }\n",
              "\n",
              "    .dataframe tbody tr th {\n",
              "        vertical-align: top;\n",
              "    }\n",
              "\n",
              "    .dataframe thead th {\n",
              "        text-align: right;\n",
              "    }\n",
              "</style>\n",
              "<table border=\"1\" class=\"dataframe\">\n",
              "  <thead>\n",
              "    <tr style=\"text-align: right;\">\n",
              "      <th></th>\n",
              "      <th>beam_number</th>\n",
              "      <th>rouge1r</th>\n",
              "      <th>rouge2r</th>\n",
              "      <th>rougeLr</th>\n",
              "    </tr>\n",
              "  </thead>\n",
              "  <tbody>\n",
              "    <tr>\n",
              "      <th>0</th>\n",
              "      <td>2</td>\n",
              "      <td>0.516661</td>\n",
              "      <td>0.257201</td>\n",
              "      <td>0.468140</td>\n",
              "    </tr>\n",
              "    <tr>\n",
              "      <th>0</th>\n",
              "      <td>3</td>\n",
              "      <td>0.515848</td>\n",
              "      <td>0.257811</td>\n",
              "      <td>0.467152</td>\n",
              "    </tr>\n",
              "    <tr>\n",
              "      <th>0</th>\n",
              "      <td>4</td>\n",
              "      <td>0.512217</td>\n",
              "      <td>0.255562</td>\n",
              "      <td>0.464056</td>\n",
              "    </tr>\n",
              "    <tr>\n",
              "      <th>0</th>\n",
              "      <td>5</td>\n",
              "      <td>0.508796</td>\n",
              "      <td>0.252703</td>\n",
              "      <td>0.460941</td>\n",
              "    </tr>\n",
              "  </tbody>\n",
              "</table>\n",
              "</div>"
            ],
            "text/plain": [
              "  beam_number   rouge1r   rouge2r   rougeLr\n",
              "0           2  0.516661  0.257201  0.468140\n",
              "0           3  0.515848  0.257811  0.467152\n",
              "0           4  0.512217  0.255562  0.464056\n",
              "0           5  0.508796  0.252703  0.460941"
            ]
          },
          "metadata": {
            "tags": []
          },
          "execution_count": 4
        }
      ]
    },
    {
      "cell_type": "code",
      "metadata": {
        "colab": {
          "base_uri": "https://localhost:8080/",
          "height": 173
        },
        "id": "2UbfE3jqxZcV",
        "outputId": "fc0f9256-c655-4fd2-9e0b-bf5813e4d002"
      },
      "source": [
        "F"
      ],
      "execution_count": 5,
      "outputs": [
        {
          "output_type": "execute_result",
          "data": {
            "text/html": [
              "<div>\n",
              "<style scoped>\n",
              "    .dataframe tbody tr th:only-of-type {\n",
              "        vertical-align: middle;\n",
              "    }\n",
              "\n",
              "    .dataframe tbody tr th {\n",
              "        vertical-align: top;\n",
              "    }\n",
              "\n",
              "    .dataframe thead th {\n",
              "        text-align: right;\n",
              "    }\n",
              "</style>\n",
              "<table border=\"1\" class=\"dataframe\">\n",
              "  <thead>\n",
              "    <tr style=\"text-align: right;\">\n",
              "      <th></th>\n",
              "      <th>beam_number</th>\n",
              "      <th>rouge1f</th>\n",
              "      <th>rouge2f</th>\n",
              "      <th>rougeLf</th>\n",
              "    </tr>\n",
              "  </thead>\n",
              "  <tbody>\n",
              "    <tr>\n",
              "      <th>0</th>\n",
              "      <td>2</td>\n",
              "      <td>0.290252</td>\n",
              "      <td>0.143864</td>\n",
              "      <td>0.290796</td>\n",
              "    </tr>\n",
              "    <tr>\n",
              "      <th>0</th>\n",
              "      <td>3</td>\n",
              "      <td>0.291322</td>\n",
              "      <td>0.145003</td>\n",
              "      <td>0.291436</td>\n",
              "    </tr>\n",
              "    <tr>\n",
              "      <th>0</th>\n",
              "      <td>4</td>\n",
              "      <td>0.290420</td>\n",
              "      <td>0.144471</td>\n",
              "      <td>0.290479</td>\n",
              "    </tr>\n",
              "    <tr>\n",
              "      <th>0</th>\n",
              "      <td>5</td>\n",
              "      <td>0.289339</td>\n",
              "      <td>0.143353</td>\n",
              "      <td>0.289260</td>\n",
              "    </tr>\n",
              "  </tbody>\n",
              "</table>\n",
              "</div>"
            ],
            "text/plain": [
              "  beam_number   rouge1f   rouge2f   rougeLf\n",
              "0           2  0.290252  0.143864  0.290796\n",
              "0           3  0.291322  0.145003  0.291436\n",
              "0           4  0.290420  0.144471  0.290479\n",
              "0           5  0.289339  0.143353  0.289260"
            ]
          },
          "metadata": {
            "tags": []
          },
          "execution_count": 5
        }
      ]
    },
    {
      "cell_type": "code",
      "metadata": {
        "colab": {
          "base_uri": "https://localhost:8080/",
          "height": 173
        },
        "id": "Nuh_4JigxcHw",
        "outputId": "25df4cfc-fe77-427f-8e0b-f17cbdee322a"
      },
      "source": [
        "P"
      ],
      "execution_count": 6,
      "outputs": [
        {
          "output_type": "execute_result",
          "data": {
            "text/html": [
              "<div>\n",
              "<style scoped>\n",
              "    .dataframe tbody tr th:only-of-type {\n",
              "        vertical-align: middle;\n",
              "    }\n",
              "\n",
              "    .dataframe tbody tr th {\n",
              "        vertical-align: top;\n",
              "    }\n",
              "\n",
              "    .dataframe thead th {\n",
              "        text-align: right;\n",
              "    }\n",
              "</style>\n",
              "<table border=\"1\" class=\"dataframe\">\n",
              "  <thead>\n",
              "    <tr style=\"text-align: right;\">\n",
              "      <th></th>\n",
              "      <th>beam_number</th>\n",
              "      <th>rouge1p</th>\n",
              "      <th>rouge2p</th>\n",
              "      <th>rougeLp</th>\n",
              "    </tr>\n",
              "  </thead>\n",
              "  <tbody>\n",
              "    <tr>\n",
              "      <th>0</th>\n",
              "      <td>2</td>\n",
              "      <td>0.210759</td>\n",
              "      <td>0.103917</td>\n",
              "      <td>0.218218</td>\n",
              "    </tr>\n",
              "    <tr>\n",
              "      <th>0</th>\n",
              "      <td>3</td>\n",
              "      <td>0.211803</td>\n",
              "      <td>0.104855</td>\n",
              "      <td>0.218977</td>\n",
              "    </tr>\n",
              "    <tr>\n",
              "      <th>0</th>\n",
              "      <td>4</td>\n",
              "      <td>0.211474</td>\n",
              "      <td>0.104664</td>\n",
              "      <td>0.218574</td>\n",
              "    </tr>\n",
              "    <tr>\n",
              "      <th>0</th>\n",
              "      <td>5</td>\n",
              "      <td>0.210898</td>\n",
              "      <td>0.103957</td>\n",
              "      <td>0.217868</td>\n",
              "    </tr>\n",
              "  </tbody>\n",
              "</table>\n",
              "</div>"
            ],
            "text/plain": [
              "  beam_number   rouge1p   rouge2p   rougeLp\n",
              "0           2  0.210759  0.103917  0.218218\n",
              "0           3  0.211803  0.104855  0.218977\n",
              "0           4  0.211474  0.104664  0.218574\n",
              "0           5  0.210898  0.103957  0.217868"
            ]
          },
          "metadata": {
            "tags": []
          },
          "execution_count": 6
        }
      ]
    },
    {
      "cell_type": "code",
      "metadata": {
        "id": "683YNXhKyQL-"
      },
      "source": [
        ""
      ],
      "execution_count": 8,
      "outputs": []
    }
  ]
}